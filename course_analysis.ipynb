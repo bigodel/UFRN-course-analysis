{
 "cells": [
  {
   "cell_type": "markdown",
   "metadata": {},
   "source": [
    "# IMD0033 - Probabilidade #"
   ]
  },
  {
   "cell_type": "markdown",
   "metadata": {},
   "source": [
    "## Project: UFRN's Open Data Evaluation - Canceled Registrations from 2009 to 2016"
   ]
  },
  {
   "cell_type": "markdown",
   "metadata": {},
   "source": [
    "### Students: ###\n",
    "20170000600 - Gabriel Igor Queiroz Costa <br>\n",
    "20170060090 - João Pedro de Amorim Paula <br>\n",
    "20170063851 - Vitor Henrique Coelho Bezerra"
   ]
  },
  {
   "cell_type": "markdown",
   "metadata": {},
   "source": [
    "### 1. Introduction ###\n",
    "\n",
    "The Open Data Portal of the Federal University of Rio Grande do Norte - UFRN (URL: http://dados.ufrn.br/group/ensino) is a tool which main objective is to make available, to the whole community, data and public information of the Institution.\n",
    "\n",
    "In this notebook, we accessed data from the students of the university with the goal to analyze the quantity of canceled registrations between 2009 and 2016."
   ]
  },
  {
   "cell_type": "markdown",
   "metadata": {},
   "source": [
    "### 2. Setting color according Color Blind palette"
   ]
  },
  {
   "cell_type": "markdown",
   "metadata": {},
   "source": [
    "According to this [link](https://github.com/ivanovitchm/imd0033_2018_1/blob/master/Aula%2015%20-%20Visualiza%C3%A7%C3%A3o%20Explorat%C3%B3ria%20de%20Dados%20II/%20Exploratory%20Data%20Visualization%20II%20-%20Color%2C%20Layout%2C%20And%20Annotations.ipynb), the Color Blind palette contains ten colors that are colorblind friendly. Here we used the one called Color Blind 10 released by the company Tableau. Navitage to this [page](http://tableaufriction.blogspot.com.br/2012/11/finally-you-can-use-tableau-data-colors.html) for more details. Here we set three of the colors from the Color Blind 10's scheme to color the charts."
   ]
  },
  {
   "cell_type": "code",
   "execution_count": 1,
   "metadata": {},
   "outputs": [],
   "source": [
    "_orange = (200/255,82/255,0/255)\n",
    "_green = (44/255,160/255,44/255)\n",
    "dark_blue = (0/255,107/255,164/255)"
   ]
  },
  {
   "cell_type": "markdown",
   "metadata": {},
   "source": [
    "### 3. Starting out with pandas ###\n",
    "\n",
    "In this code snippet we read the csv's to store each year's information in a `pandas` DataFrame in order to extract what we want. The name of the variable comes from the student, which in portuguese is written as *\"aluno\"* or *\"discente\"*.\n",
    "\n",
    "These are the python packages we will need. `pandas` for manupulation and analysis of the `csv` files, `matplotlib` and `seaborn` to generate graphics to visualize the results. "
   ]
  },
  {
   "cell_type": "code",
   "execution_count": 2,
   "metadata": {},
   "outputs": [],
   "source": [
    "import pandas as pd\n",
    "import matplotlib.pyplot as plt\n",
    "import seaborn as sns\n",
    "import numpy as np"
   ]
  },
  {
   "cell_type": "markdown",
   "metadata": {},
   "source": [
    "Right after, the first thing we do is read each `csv` file and store them in a `pandas` DataFrame. We kept 2017 and 2018 out of this for two reasons:\n",
    "\n",
    "1. The 2017 `csv` said that all of the students had entered the university in 2009, which makes no sense;\n",
    "2. Since we're still in 2018, the 2018 file is incomplete, so it's result would just make it harder to analyze the graphics."
   ]
  },
  {
   "cell_type": "code",
   "execution_count": 3,
   "metadata": {},
   "outputs": [],
   "source": [
    "dis09 = pd.read_csv('res/discentes-2009.csv', sep=';', encoding='utf8')\n",
    "dis10 = pd.read_csv('res/discentes-2010.csv', sep=';', encoding='utf8')\n",
    "dis11 = pd.read_csv('res/discentes-2011.csv', sep=';', encoding='utf8')\n",
    "dis12 = pd.read_csv('res/discentes-2012.csv', sep=';', encoding='utf8')\n",
    "dis13 = pd.read_csv('res/discentes-2013.csv', sep=';', encoding='utf8')\n",
    "dis14 = pd.read_csv('res/discentes-2014.csv', sep=';', encoding='utf8')\n",
    "dis15 = pd.read_csv('res/discentes-2015.csv', sep=';', encoding='utf8')\n",
    "dis16 = pd.read_csv('res/discentes-2016.csv', sep=';', encoding='utf8')\n",
    "dis17 = pd.read_csv('res/discentes-2017.csv', sep=';', encoding='utf8')\n",
    "dis18 = pd.read_csv('res/discentes-2018.csv', sep=';', encoding='utf8')"
   ]
  },
  {
   "cell_type": "markdown",
   "metadata": {},
   "source": [
    "We only want to work with graduation students, so that's what this code is doing. Also, there are some columns that do not have much use for use, so we store their id's in a variable (`drop_cols`) and drop them from the DataFrame."
   ]
  },
  {
   "cell_type": "code",
   "execution_count": 4,
   "metadata": {
    "scrolled": false
   },
   "outputs": [],
   "source": [
    "drop_cols = ['periodo_ingresso', 'forma_ingresso', 'tipo_discente', 'sigla_nivel_ensino', 'id_unidade_gestora', 'nome_unidade_gestora', 'forma_ingresso']\n",
    "\n",
    "dis09 = dis09[dis09.nivel_ensino == 'GRADUAÇÃO'].drop(drop_cols, axis=1)\n",
    "dis10 = dis10[dis10.nivel_ensino == 'GRADUAÇÃO'].drop(drop_cols, axis=1)\n",
    "dis11 = dis11[dis11.nivel_ensino == 'GRADUAÇÃO'].drop(drop_cols, axis=1)\n",
    "dis12 = dis12[dis12.nivel_ensino == 'GRADUAÇÃO'].drop(drop_cols, axis=1)\n",
    "dis13 = dis13[dis13.nivel_ensino == 'GRADUAÇÃO'].drop(drop_cols, axis=1)\n",
    "dis14 = dis14[dis14.nivel_ensino == 'GRADUAÇÃO'].drop(drop_cols, axis=1)\n",
    "dis15 = dis15[dis15.nivel_ensino == 'GRADUAÇÃO'].drop(drop_cols, axis=1)\n",
    "dis16 = dis16[dis16.nivel_ensino == 'GRADUAÇÃO'].drop(drop_cols, axis=1)\n",
    "dis17 = dis17[dis17.nivel_ensino == 'GRADUAÇÃO'].drop(drop_cols, axis=1)\n",
    "dis18 = dis18[dis18.nivel_ensino == 'GRADUAÇÃO'].drop(drop_cols, axis=1)"
   ]
  },
  {
   "cell_type": "markdown",
   "metadata": {},
   "source": [
    "Drop all the *NULL* or *NaN* (Not a Number) rows."
   ]
  },
  {
   "cell_type": "code",
   "execution_count": 5,
   "metadata": {},
   "outputs": [],
   "source": [
    "dis09.dropna(inplace=True)\n",
    "dis10.dropna(inplace=True)\n",
    "dis11.dropna(inplace=True)\n",
    "dis12.dropna(inplace=True)\n",
    "dis13.dropna(inplace=True)\n",
    "dis14.dropna(inplace=True)\n",
    "dis15.dropna(inplace=True)\n",
    "dis16.dropna(inplace=True)\n",
    "dis17.dropna(inplace=True)\n",
    "dis18.dropna(inplace=True)"
   ]
  },
  {
   "cell_type": "markdown",
   "metadata": {},
   "source": [
    "The next step is to read a file that contains all of the university graduate courses in UFRN, and store that in a variable courses. In this data frame, we must replace the name column 'nome' to 'nome_curso', because it represents the same value."
   ]
  },
  {
   "cell_type": "code",
   "execution_count": 6,
   "metadata": {},
   "outputs": [],
   "source": [
    "courses = pd.read_csv('res/cursos-ufrn.csv', sep=';', encoding='utf-8')\n",
    "courses = courses[courses.nivel_ensino == 'GRADUAÇÃO']\n",
    "courses.rename(columns={'nome': 'nome_curso'}, inplace=True)"
   ]
  },
  {
   "cell_type": "markdown",
   "metadata": {},
   "source": [
    "### 4. Uniting all the DataFrames into one  ###\n",
    "\n",
    "Here we `concat` all of the DataFrames into a single one that contains only the cancelled students, as well as another DataFrame containing students that still have an active registration or have finished their courses."
   ]
  },
  {
   "cell_type": "markdown",
   "metadata": {},
   "source": [
    "Note: In dis_canceled and dis_activ data frame we treated all rows with 'ADMINISTRAÇÃO -' and 'HISTÓRIA -' values replacing to 'ADMINISTRAÇÃO' and 'HISTÓRIA', because it represents the same course."
   ]
  },
  {
   "cell_type": "code",
   "execution_count": 7,
   "metadata": {},
   "outputs": [],
   "source": [
    "dis_cancelled = pd.concat([dis09, dis10, dis11, dis12, dis13, dis14, dis15, dis16], ignore_index=True)\n",
    "dis_cancelled = dis_cancelled[dis_cancelled.status == 'CANCELADO']\n",
    "dis_cancelled = dis_cancelled[~dis_cancelled.matricula.duplicated()]\n",
    "dis_cancelled = dis_cancelled.replace({'ADMINISTRAÇÃO -': 'ADMINISTRAÇÃO'})\n",
    "dis_cancelled = dis_cancelled.replace({'HISTÓRIA -': 'HISTÓRIA'})\n",
    "\n",
    "dis_active = pd.concat([dis09, dis10, dis11, dis12, dis13, dis14, dis15, dis16], ignore_index=True)\n",
    "dis_active = dis_active[dis_active.status != \"CANCELADO\"]\n",
    "dis_active = dis_active[~dis_active.matricula.duplicated()]\n",
    "dis_active = dis_active.replace({'ADMINISTRAÇÃO -': 'ADMINISTRAÇÃO'})\n",
    "dis_active = dis_active.replace({'HISTÓRIA -': 'HISTÓRIA'})"
   ]
  },
  {
   "cell_type": "markdown",
   "metadata": {},
   "source": [
    "Here we drop all the columns from courses not needed to the analysis and we `merge` the result with the dis_cancelled data frame."
   ]
  },
  {
   "cell_type": "code",
   "execution_count": 8,
   "metadata": {},
   "outputs": [
    {
     "data": {
      "text/html": [
       "<div>\n",
       "<style scoped>\n",
       "    .dataframe tbody tr th:only-of-type {\n",
       "        vertical-align: middle;\n",
       "    }\n",
       "\n",
       "    .dataframe tbody tr th {\n",
       "        vertical-align: top;\n",
       "    }\n",
       "\n",
       "    .dataframe thead th {\n",
       "        text-align: right;\n",
       "    }\n",
       "</style>\n",
       "<table border=\"1\" class=\"dataframe\">\n",
       "  <thead>\n",
       "    <tr style=\"text-align: right;\">\n",
       "      <th></th>\n",
       "      <th>id_curso</th>\n",
       "      <th>area_conhecimento</th>\n",
       "      <th>campus</th>\n",
       "      <th>id_unidade_responsavel</th>\n",
       "      <th>unidade_responsavel</th>\n",
       "      <th>matricula</th>\n",
       "      <th>nome_discente</th>\n",
       "      <th>ano_ingresso</th>\n",
       "      <th>status</th>\n",
       "      <th>nivel_ensino</th>\n",
       "      <th>nome_curso</th>\n",
       "      <th>modalidade_educacao</th>\n",
       "      <th>id_unidade</th>\n",
       "      <th>nome_unidade</th>\n",
       "    </tr>\n",
       "  </thead>\n",
       "  <tbody>\n",
       "    <tr>\n",
       "      <th>0</th>\n",
       "      <td>2000002</td>\n",
       "      <td>Ciências Sociais Aplicadas</td>\n",
       "      <td>Campus Central</td>\n",
       "      <td>443</td>\n",
       "      <td>CENTRO DE CIÊNCIAS SOCIAIS APLICADAS</td>\n",
       "      <td>2.009007e+09</td>\n",
       "      <td>ADSON ARACELI ALVES DANTAS</td>\n",
       "      <td>2009</td>\n",
       "      <td>CANCELADO</td>\n",
       "      <td>GRADUAÇÃO</td>\n",
       "      <td>ADMINISTRAÇÃO</td>\n",
       "      <td>PRESENCIAL</td>\n",
       "      <td>443.0</td>\n",
       "      <td>CENTRO DE CIÊNCIAS SOCIAIS APLICADAS</td>\n",
       "    </tr>\n",
       "    <tr>\n",
       "      <th>1</th>\n",
       "      <td>2000002</td>\n",
       "      <td>Ciências Sociais Aplicadas</td>\n",
       "      <td>Campus Central</td>\n",
       "      <td>443</td>\n",
       "      <td>CENTRO DE CIÊNCIAS SOCIAIS APLICADAS</td>\n",
       "      <td>2.009008e+09</td>\n",
       "      <td>ALINNE STÉPHANIE COTA DE SÁ</td>\n",
       "      <td>2009</td>\n",
       "      <td>CANCELADO</td>\n",
       "      <td>GRADUAÇÃO</td>\n",
       "      <td>ADMINISTRAÇÃO</td>\n",
       "      <td>PRESENCIAL</td>\n",
       "      <td>443.0</td>\n",
       "      <td>CENTRO DE CIÊNCIAS SOCIAIS APLICADAS</td>\n",
       "    </tr>\n",
       "    <tr>\n",
       "      <th>2</th>\n",
       "      <td>2000002</td>\n",
       "      <td>Ciências Sociais Aplicadas</td>\n",
       "      <td>Campus Central</td>\n",
       "      <td>443</td>\n",
       "      <td>CENTRO DE CIÊNCIAS SOCIAIS APLICADAS</td>\n",
       "      <td>2.009007e+09</td>\n",
       "      <td>ALRIANE SILVESTRE DA SILVA</td>\n",
       "      <td>2009</td>\n",
       "      <td>CANCELADO</td>\n",
       "      <td>GRADUAÇÃO</td>\n",
       "      <td>ADMINISTRAÇÃO</td>\n",
       "      <td>PRESENCIAL</td>\n",
       "      <td>443.0</td>\n",
       "      <td>CENTRO DE CIÊNCIAS SOCIAIS APLICADAS</td>\n",
       "    </tr>\n",
       "    <tr>\n",
       "      <th>3</th>\n",
       "      <td>2000002</td>\n",
       "      <td>Ciências Sociais Aplicadas</td>\n",
       "      <td>Campus Central</td>\n",
       "      <td>443</td>\n",
       "      <td>CENTRO DE CIÊNCIAS SOCIAIS APLICADAS</td>\n",
       "      <td>2.009008e+09</td>\n",
       "      <td>ANA CAMILA DO NASCIMENTO JANUÁRIO</td>\n",
       "      <td>2009</td>\n",
       "      <td>CANCELADO</td>\n",
       "      <td>GRADUAÇÃO</td>\n",
       "      <td>ADMINISTRAÇÃO</td>\n",
       "      <td>PRESENCIAL</td>\n",
       "      <td>443.0</td>\n",
       "      <td>CENTRO DE CIÊNCIAS SOCIAIS APLICADAS</td>\n",
       "    </tr>\n",
       "    <tr>\n",
       "      <th>4</th>\n",
       "      <td>2000002</td>\n",
       "      <td>Ciências Sociais Aplicadas</td>\n",
       "      <td>Campus Central</td>\n",
       "      <td>443</td>\n",
       "      <td>CENTRO DE CIÊNCIAS SOCIAIS APLICADAS</td>\n",
       "      <td>2.009007e+09</td>\n",
       "      <td>ANA JÚLIA NUNES DE ARAÚJO</td>\n",
       "      <td>2009</td>\n",
       "      <td>CANCELADO</td>\n",
       "      <td>GRADUAÇÃO</td>\n",
       "      <td>ADMINISTRAÇÃO</td>\n",
       "      <td>PRESENCIAL</td>\n",
       "      <td>443.0</td>\n",
       "      <td>CENTRO DE CIÊNCIAS SOCIAIS APLICADAS</td>\n",
       "    </tr>\n",
       "  </tbody>\n",
       "</table>\n",
       "</div>"
      ],
      "text/plain": [
       "  id_curso           area_conhecimento          campus  \\\n",
       "0  2000002  Ciências Sociais Aplicadas  Campus Central   \n",
       "1  2000002  Ciências Sociais Aplicadas  Campus Central   \n",
       "2  2000002  Ciências Sociais Aplicadas  Campus Central   \n",
       "3  2000002  Ciências Sociais Aplicadas  Campus Central   \n",
       "4  2000002  Ciências Sociais Aplicadas  Campus Central   \n",
       "\n",
       "   id_unidade_responsavel                   unidade_responsavel     matricula  \\\n",
       "0                     443  CENTRO DE CIÊNCIAS SOCIAIS APLICADAS  2.009007e+09   \n",
       "1                     443  CENTRO DE CIÊNCIAS SOCIAIS APLICADAS  2.009008e+09   \n",
       "2                     443  CENTRO DE CIÊNCIAS SOCIAIS APLICADAS  2.009007e+09   \n",
       "3                     443  CENTRO DE CIÊNCIAS SOCIAIS APLICADAS  2.009008e+09   \n",
       "4                     443  CENTRO DE CIÊNCIAS SOCIAIS APLICADAS  2.009007e+09   \n",
       "\n",
       "                       nome_discente  ano_ingresso     status nivel_ensino  \\\n",
       "0         ADSON ARACELI ALVES DANTAS          2009  CANCELADO    GRADUAÇÃO   \n",
       "1        ALINNE STÉPHANIE COTA DE SÁ          2009  CANCELADO    GRADUAÇÃO   \n",
       "2         ALRIANE SILVESTRE DA SILVA          2009  CANCELADO    GRADUAÇÃO   \n",
       "3  ANA CAMILA DO NASCIMENTO JANUÁRIO          2009  CANCELADO    GRADUAÇÃO   \n",
       "4          ANA JÚLIA NUNES DE ARAÚJO          2009  CANCELADO    GRADUAÇÃO   \n",
       "\n",
       "      nome_curso modalidade_educacao  id_unidade  \\\n",
       "0  ADMINISTRAÇÃO          PRESENCIAL       443.0   \n",
       "1  ADMINISTRAÇÃO          PRESENCIAL       443.0   \n",
       "2  ADMINISTRAÇÃO          PRESENCIAL       443.0   \n",
       "3  ADMINISTRAÇÃO          PRESENCIAL       443.0   \n",
       "4  ADMINISTRAÇÃO          PRESENCIAL       443.0   \n",
       "\n",
       "                           nome_unidade  \n",
       "0  CENTRO DE CIÊNCIAS SOCIAIS APLICADAS  \n",
       "1  CENTRO DE CIÊNCIAS SOCIAIS APLICADAS  \n",
       "2  CENTRO DE CIÊNCIAS SOCIAIS APLICADAS  \n",
       "3  CENTRO DE CIÊNCIAS SOCIAIS APLICADAS  \n",
       "4  CENTRO DE CIÊNCIAS SOCIAIS APLICADAS  "
      ]
     },
     "execution_count": 8,
     "metadata": {},
     "output_type": "execute_result"
    }
   ],
   "source": [
    "column = ['unidade_responsavel'] + list(dis_cancelled.columns.values)\n",
    "column_drop = ['modalidade_educacao', 'nivel_ensino', 'situacao_curso',\n",
    "               'grau_academico', 'tipo_oferta', 'tipo_ciclo_formacao', 'turno', 'municipio',\n",
    "               'data_funcionamento', 'codigo_inep', 'website', 'dou', 'id_coordenador', 'coordenador',\n",
    "               'portaria_reconhecimento', 'convenio_academico', 'nome_curso']\n",
    "merge_coursesdis= pd.merge(courses.drop(column_drop,axis=1), dis_cancelled, on='id_curso')\n",
    "merge_coursesdis.head()"
   ]
  },
  {
   "cell_type": "markdown",
   "metadata": {},
   "source": [
    "### 5. Table with number of cancellations per year ###\n",
    "\n",
    "This pivot table is used to store the amount of cancelled registrations in each course, each year."
   ]
  },
  {
   "cell_type": "code",
   "execution_count": 9,
   "metadata": {},
   "outputs": [
    {
     "data": {
      "text/html": [
       "<div>\n",
       "<style scoped>\n",
       "    .dataframe tbody tr th:only-of-type {\n",
       "        vertical-align: middle;\n",
       "    }\n",
       "\n",
       "    .dataframe tbody tr th {\n",
       "        vertical-align: top;\n",
       "    }\n",
       "\n",
       "    .dataframe thead tr th {\n",
       "        text-align: left;\n",
       "    }\n",
       "</style>\n",
       "<table border=\"1\" class=\"dataframe\">\n",
       "  <thead>\n",
       "    <tr>\n",
       "      <th></th>\n",
       "      <th>ano_ingresso</th>\n",
       "      <th colspan=\"9\" halign=\"left\">area_conhecimento</th>\n",
       "      <th>...</th>\n",
       "      <th colspan=\"10\" halign=\"left\">unidade_responsavel</th>\n",
       "    </tr>\n",
       "    <tr>\n",
       "      <th>nome_curso</th>\n",
       "      <th></th>\n",
       "      <th>ADMINISTRAÇÃO</th>\n",
       "      <th>ADMINISTRAÇÃO PÚBLICA</th>\n",
       "      <th>AGRONOMIA</th>\n",
       "      <th>ANÁLISE E DESENVOLVIMENTO DE SISTEMAS</th>\n",
       "      <th>ARQUITETURA E URBANISMO</th>\n",
       "      <th>ARTES VISUAIS</th>\n",
       "      <th>BIBLIOTECONOMIA</th>\n",
       "      <th>BIOMEDICINA</th>\n",
       "      <th>CIÊNCIA DA COMPUTAÇÃO</th>\n",
       "      <th>...</th>\n",
       "      <th>PEDAGOGIA</th>\n",
       "      <th>PSICOLOGIA</th>\n",
       "      <th>QUÍMICA</th>\n",
       "      <th>QUÍMICA DO PETRÓLEO</th>\n",
       "      <th>SERVIÇO SOCIAL</th>\n",
       "      <th>SISTEMAS DE INFORMAÇÃO</th>\n",
       "      <th>TEATRO</th>\n",
       "      <th>TECNOLOGIA DA INFORMAÇÃO</th>\n",
       "      <th>TURISMO</th>\n",
       "      <th>ZOOTECNIA</th>\n",
       "    </tr>\n",
       "  </thead>\n",
       "  <tbody>\n",
       "    <tr>\n",
       "      <th>0</th>\n",
       "      <td>2009</td>\n",
       "      <td>74</td>\n",
       "      <td>0</td>\n",
       "      <td>0</td>\n",
       "      <td>0</td>\n",
       "      <td>6</td>\n",
       "      <td>17</td>\n",
       "      <td>11</td>\n",
       "      <td>19</td>\n",
       "      <td>36</td>\n",
       "      <td>...</td>\n",
       "      <td>52</td>\n",
       "      <td>14</td>\n",
       "      <td>176</td>\n",
       "      <td>16</td>\n",
       "      <td>13</td>\n",
       "      <td>36</td>\n",
       "      <td>13</td>\n",
       "      <td>0</td>\n",
       "      <td>52</td>\n",
       "      <td>64</td>\n",
       "    </tr>\n",
       "    <tr>\n",
       "      <th>1</th>\n",
       "      <td>2010</td>\n",
       "      <td>65</td>\n",
       "      <td>247</td>\n",
       "      <td>0</td>\n",
       "      <td>0</td>\n",
       "      <td>5</td>\n",
       "      <td>19</td>\n",
       "      <td>12</td>\n",
       "      <td>28</td>\n",
       "      <td>36</td>\n",
       "      <td>...</td>\n",
       "      <td>60</td>\n",
       "      <td>15</td>\n",
       "      <td>279</td>\n",
       "      <td>17</td>\n",
       "      <td>16</td>\n",
       "      <td>40</td>\n",
       "      <td>26</td>\n",
       "      <td>0</td>\n",
       "      <td>58</td>\n",
       "      <td>67</td>\n",
       "    </tr>\n",
       "    <tr>\n",
       "      <th>2</th>\n",
       "      <td>2011</td>\n",
       "      <td>81</td>\n",
       "      <td>194</td>\n",
       "      <td>25</td>\n",
       "      <td>0</td>\n",
       "      <td>4</td>\n",
       "      <td>26</td>\n",
       "      <td>14</td>\n",
       "      <td>39</td>\n",
       "      <td>43</td>\n",
       "      <td>...</td>\n",
       "      <td>58</td>\n",
       "      <td>9</td>\n",
       "      <td>130</td>\n",
       "      <td>15</td>\n",
       "      <td>23</td>\n",
       "      <td>38</td>\n",
       "      <td>18</td>\n",
       "      <td>0</td>\n",
       "      <td>62</td>\n",
       "      <td>40</td>\n",
       "    </tr>\n",
       "    <tr>\n",
       "      <th>3</th>\n",
       "      <td>2012</td>\n",
       "      <td>70</td>\n",
       "      <td>0</td>\n",
       "      <td>15</td>\n",
       "      <td>0</td>\n",
       "      <td>4</td>\n",
       "      <td>18</td>\n",
       "      <td>14</td>\n",
       "      <td>30</td>\n",
       "      <td>38</td>\n",
       "      <td>...</td>\n",
       "      <td>287</td>\n",
       "      <td>8</td>\n",
       "      <td>227</td>\n",
       "      <td>10</td>\n",
       "      <td>13</td>\n",
       "      <td>38</td>\n",
       "      <td>18</td>\n",
       "      <td>0</td>\n",
       "      <td>83</td>\n",
       "      <td>27</td>\n",
       "    </tr>\n",
       "    <tr>\n",
       "      <th>4</th>\n",
       "      <td>2013</td>\n",
       "      <td>105</td>\n",
       "      <td>0</td>\n",
       "      <td>21</td>\n",
       "      <td>21</td>\n",
       "      <td>7</td>\n",
       "      <td>23</td>\n",
       "      <td>32</td>\n",
       "      <td>22</td>\n",
       "      <td>19</td>\n",
       "      <td>...</td>\n",
       "      <td>106</td>\n",
       "      <td>11</td>\n",
       "      <td>155</td>\n",
       "      <td>28</td>\n",
       "      <td>33</td>\n",
       "      <td>25</td>\n",
       "      <td>15</td>\n",
       "      <td>153</td>\n",
       "      <td>71</td>\n",
       "      <td>34</td>\n",
       "    </tr>\n",
       "    <tr>\n",
       "      <th>5</th>\n",
       "      <td>2014</td>\n",
       "      <td>106</td>\n",
       "      <td>115</td>\n",
       "      <td>26</td>\n",
       "      <td>18</td>\n",
       "      <td>6</td>\n",
       "      <td>21</td>\n",
       "      <td>24</td>\n",
       "      <td>27</td>\n",
       "      <td>0</td>\n",
       "      <td>...</td>\n",
       "      <td>219</td>\n",
       "      <td>15</td>\n",
       "      <td>180</td>\n",
       "      <td>43</td>\n",
       "      <td>39</td>\n",
       "      <td>33</td>\n",
       "      <td>9</td>\n",
       "      <td>163</td>\n",
       "      <td>72</td>\n",
       "      <td>25</td>\n",
       "    </tr>\n",
       "    <tr>\n",
       "      <th>6</th>\n",
       "      <td>2015</td>\n",
       "      <td>84</td>\n",
       "      <td>0</td>\n",
       "      <td>15</td>\n",
       "      <td>17</td>\n",
       "      <td>4</td>\n",
       "      <td>16</td>\n",
       "      <td>21</td>\n",
       "      <td>21</td>\n",
       "      <td>0</td>\n",
       "      <td>...</td>\n",
       "      <td>64</td>\n",
       "      <td>10</td>\n",
       "      <td>83</td>\n",
       "      <td>21</td>\n",
       "      <td>33</td>\n",
       "      <td>25</td>\n",
       "      <td>12</td>\n",
       "      <td>134</td>\n",
       "      <td>40</td>\n",
       "      <td>11</td>\n",
       "    </tr>\n",
       "    <tr>\n",
       "      <th>7</th>\n",
       "      <td>2016</td>\n",
       "      <td>54</td>\n",
       "      <td>0</td>\n",
       "      <td>11</td>\n",
       "      <td>18</td>\n",
       "      <td>4</td>\n",
       "      <td>12</td>\n",
       "      <td>22</td>\n",
       "      <td>15</td>\n",
       "      <td>1</td>\n",
       "      <td>...</td>\n",
       "      <td>61</td>\n",
       "      <td>12</td>\n",
       "      <td>62</td>\n",
       "      <td>19</td>\n",
       "      <td>27</td>\n",
       "      <td>14</td>\n",
       "      <td>9</td>\n",
       "      <td>111</td>\n",
       "      <td>39</td>\n",
       "      <td>9</td>\n",
       "    </tr>\n",
       "  </tbody>\n",
       "</table>\n",
       "<p>8 rows × 961 columns</p>\n",
       "</div>"
      ],
      "text/plain": [
       "           ano_ingresso area_conhecimento                                  \\\n",
       "nome_curso                  ADMINISTRAÇÃO ADMINISTRAÇÃO PÚBLICA AGRONOMIA   \n",
       "0                  2009                74                     0         0   \n",
       "1                  2010                65                   247         0   \n",
       "2                  2011                81                   194        25   \n",
       "3                  2012                70                     0        15   \n",
       "4                  2013               105                     0        21   \n",
       "5                  2014               106                   115        26   \n",
       "6                  2015                84                     0        15   \n",
       "7                  2016                54                     0        11   \n",
       "\n",
       "                                                                          \\\n",
       "nome_curso ANÁLISE E DESENVOLVIMENTO DE SISTEMAS ARQUITETURA E URBANISMO   \n",
       "0                                              0                       6   \n",
       "1                                              0                       5   \n",
       "2                                              0                       4   \n",
       "3                                              0                       4   \n",
       "4                                             21                       7   \n",
       "5                                             18                       6   \n",
       "6                                             17                       4   \n",
       "7                                             18                       4   \n",
       "\n",
       "                                                                            \\\n",
       "nome_curso ARTES VISUAIS BIBLIOTECONOMIA BIOMEDICINA CIÊNCIA DA COMPUTAÇÃO   \n",
       "0                     17              11          19                    36   \n",
       "1                     19              12          28                    36   \n",
       "2                     26              14          39                    43   \n",
       "3                     18              14          30                    38   \n",
       "4                     23              32          22                    19   \n",
       "5                     21              24          27                     0   \n",
       "6                     16              21          21                     0   \n",
       "7                     12              22          15                     1   \n",
       "\n",
       "              ...    unidade_responsavel                     \\\n",
       "nome_curso    ...              PEDAGOGIA PSICOLOGIA QUÍMICA   \n",
       "0             ...                     52         14     176   \n",
       "1             ...                     60         15     279   \n",
       "2             ...                     58          9     130   \n",
       "3             ...                    287          8     227   \n",
       "4             ...                    106         11     155   \n",
       "5             ...                    219         15     180   \n",
       "6             ...                     64         10      83   \n",
       "7             ...                     61         12      62   \n",
       "\n",
       "                                                                             \\\n",
       "nome_curso QUÍMICA DO PETRÓLEO SERVIÇO SOCIAL SISTEMAS DE INFORMAÇÃO TEATRO   \n",
       "0                           16             13                     36     13   \n",
       "1                           17             16                     40     26   \n",
       "2                           15             23                     38     18   \n",
       "3                           10             13                     38     18   \n",
       "4                           28             33                     25     15   \n",
       "5                           43             39                     33      9   \n",
       "6                           21             33                     25     12   \n",
       "7                           19             27                     14      9   \n",
       "\n",
       "                                                       \n",
       "nome_curso TECNOLOGIA DA INFORMAÇÃO TURISMO ZOOTECNIA  \n",
       "0                                 0      52        64  \n",
       "1                                 0      58        67  \n",
       "2                                 0      62        40  \n",
       "3                                 0      83        27  \n",
       "4                               153      71        34  \n",
       "5                               163      72        25  \n",
       "6                               134      40        11  \n",
       "7                               111      39         9  \n",
       "\n",
       "[8 rows x 961 columns]"
      ]
     },
     "execution_count": 9,
     "metadata": {},
     "output_type": "execute_result"
    }
   ],
   "source": [
    "pivot = pd.pivot_table(merge_coursesdis,\n",
    "                       index='ano_ingresso',\n",
    "                       columns='nome_curso',\n",
    "                       aggfunc=\"count\").fillna(0).astype(int)\n",
    "pivot.reset_index(inplace=True)\n",
    "pivot"
   ]
  },
  {
   "cell_type": "markdown",
   "metadata": {},
   "source": [
    "### 6. Table with the amount each year's cancelled students ###\n",
    "\n",
    "This table is used to show the total of each year's cancelled registrations."
   ]
  },
  {
   "cell_type": "code",
   "execution_count": 10,
   "metadata": {
    "scrolled": true
   },
   "outputs": [
    {
     "data": {
      "text/html": [
       "<div>\n",
       "<style scoped>\n",
       "    .dataframe tbody tr th:only-of-type {\n",
       "        vertical-align: middle;\n",
       "    }\n",
       "\n",
       "    .dataframe tbody tr th {\n",
       "        vertical-align: top;\n",
       "    }\n",
       "\n",
       "    .dataframe thead th {\n",
       "        text-align: right;\n",
       "    }\n",
       "</style>\n",
       "<table border=\"1\" class=\"dataframe\">\n",
       "  <thead>\n",
       "    <tr style=\"text-align: right;\">\n",
       "      <th></th>\n",
       "      <th>ano_ingresso</th>\n",
       "      <th>amount</th>\n",
       "    </tr>\n",
       "  </thead>\n",
       "  <tbody>\n",
       "    <tr>\n",
       "      <th>0</th>\n",
       "      <td>2009</td>\n",
       "      <td>2866</td>\n",
       "    </tr>\n",
       "    <tr>\n",
       "      <th>1</th>\n",
       "      <td>2010</td>\n",
       "      <td>4047</td>\n",
       "    </tr>\n",
       "    <tr>\n",
       "      <th>2</th>\n",
       "      <td>2011</td>\n",
       "      <td>3596</td>\n",
       "    </tr>\n",
       "    <tr>\n",
       "      <th>3</th>\n",
       "      <td>2012</td>\n",
       "      <td>4330</td>\n",
       "    </tr>\n",
       "    <tr>\n",
       "      <th>4</th>\n",
       "      <td>2013</td>\n",
       "      <td>3923</td>\n",
       "    </tr>\n",
       "    <tr>\n",
       "      <th>5</th>\n",
       "      <td>2014</td>\n",
       "      <td>4349</td>\n",
       "    </tr>\n",
       "    <tr>\n",
       "      <th>6</th>\n",
       "      <td>2015</td>\n",
       "      <td>2552</td>\n",
       "    </tr>\n",
       "    <tr>\n",
       "      <th>7</th>\n",
       "      <td>2016</td>\n",
       "      <td>2151</td>\n",
       "    </tr>\n",
       "  </tbody>\n",
       "</table>\n",
       "</div>"
      ],
      "text/plain": [
       "   ano_ingresso  amount\n",
       "0          2009    2866\n",
       "1          2010    4047\n",
       "2          2011    3596\n",
       "3          2012    4330\n",
       "4          2013    3923\n",
       "5          2014    4349\n",
       "6          2015    2552\n",
       "7          2016    2151"
      ]
     },
     "execution_count": 10,
     "metadata": {},
     "output_type": "execute_result"
    }
   ],
   "source": [
    "x = pd.pivot_table(merge_coursesdis,\n",
    "                   index='ano_ingresso',\n",
    "                   values='nome_curso',\n",
    "                   aggfunc='count').fillna(0).astype(int).reset_index()\n",
    "x.rename(columns={'nome_curso': 'amount'}, inplace=True)\n",
    "x"
   ]
  },
  {
   "cell_type": "markdown",
   "metadata": {},
   "source": [
    "This chart is used to show the total of each year's cancelled registration."
   ]
  },
  {
   "cell_type": "code",
   "execution_count": 11,
   "metadata": {},
   "outputs": [
    {
     "data": {
      "image/png": "[encoded data removed]",
      "text/plain": [
       "<matplotlib.figure.Figure at 0x29142568be0>"
      ]
     },
     "metadata": {},
     "output_type": "display_data"
    }
   ],
   "source": [
    "\n",
    "plt.plot(x['ano_ingresso'], \n",
    "         x['amount'], c=_green, label='Students')\n",
    "plt.legend(loc='best')\n",
    "plt.xlabel('Years')\n",
    "plt.ylabel('Amount')\n",
    "plt.title('Total of cancelled registrations from 2009 to 2016')\n",
    "plt.show()"
   ]
  },
  {
   "cell_type": "markdown",
   "metadata": {},
   "source": [
    "### 7. Cancelled students of some units ##\n",
    "\n",
    "In this section we separate the number os cancelled students by unit, that is, by the unit responsible by the course."
   ]
  },
  {
   "cell_type": "markdown",
   "metadata": {},
   "source": [
    "#### 7.1. Name of all units ####"
   ]
  },
  {
   "cell_type": "code",
   "execution_count": 12,
   "metadata": {},
   "outputs": [
    {
     "data": {
      "text/plain": [
       "['CENTRO DE CIÊNCIAS SOCIAIS APLICADAS',\n",
       " 'CENTRO DE  ENSINO SUPERIOR DO SERIDÓ',\n",
       " 'ESCOLA AGRÍCOLA DE JUNDIAÍ',\n",
       " 'CENTRO DE TECNOLOGIA',\n",
       " 'CENTRO DE CIÊNCIAS HUMANAS, LETRAS E ARTES',\n",
       " 'CENTRO DE BIOCIÊNCIAS',\n",
       " 'CENTRO DE CIÊNCIAS EXATAS E DA TERRA',\n",
       " 'ESCOLA DE CIÊNCIAS E TECNOLOGIA',\n",
       " 'CENTRO DE CIÊNCIAS DA SAÚDE',\n",
       " 'FACULDADE DE CIÊNCIAS DA SAÚDE DO TRAIRI - FACISA',\n",
       " 'ESCOLA DE SAÚDE',\n",
       " 'ESCOLA MULTICAMPI DE CIÊNCIAS MÉDICAS DO RIO GRANDE DO NORTE',\n",
       " 'ESCOLA DE MÚSICA',\n",
       " 'CENTRO DE EDUCAÇÃO',\n",
       " 'INSTITUTO METROPOLE DIGITAL']"
      ]
     },
     "execution_count": 12,
     "metadata": {},
     "output_type": "execute_result"
    }
   ],
   "source": [
    "merge_coursesdis.unidade_responsavel.unique().tolist()"
   ]
  },
  {
   "cell_type": "markdown",
   "metadata": {},
   "source": [
    "#### 7.2. Bio and Health Sciences units ###"
   ]
  },
  {
   "cell_type": "markdown",
   "metadata": {},
   "source": [
    "Here we concatenate the courses with the responsable unit called 'CENTRO DE CIÊNCIAS DA SAÚDE' or 'CENTRO DE BIOCIÊNCIAS'. Then we list them."
   ]
  },
  {
   "cell_type": "code",
   "execution_count": 13,
   "metadata": {},
   "outputs": [
    {
     "data": {
      "text/plain": [
       "['EDUCAÇÃO FÍSICA',\n",
       " 'ENFERMAGEM',\n",
       " 'FARMÁCIA',\n",
       " 'FISIOTERAPIA',\n",
       " 'FONOAUDIOLOGIA',\n",
       " 'GESTÃO EM SISTEMAS E SERVIÇOS DE SAÚDE',\n",
       " 'MEDICINA',\n",
       " 'NUTRIÇÃO',\n",
       " 'ODONTOLOGIA',\n",
       " 'BIOMEDICINA',\n",
       " 'CIÊNCIAS BIOLÓGICAS',\n",
       " 'ECOLOGIA',\n",
       " 'ENGENHARIA DE AQUICULTURA']"
      ]
     },
     "execution_count": 13,
     "metadata": {},
     "output_type": "execute_result"
    }
   ],
   "source": [
    "biomedical = pd.concat([merge_coursesdis[merge_coursesdis.unidade_responsavel == \"CENTRO DE CIÊNCIAS DA SAÚDE\"],\n",
    "                       merge_coursesdis[merge_coursesdis.unidade_responsavel == \"CENTRO DE BIOCIÊNCIAS\"]])\n",
    "biomedical.nome_curso.unique().tolist()"
   ]
  },
  {
   "cell_type": "code",
   "execution_count": 14,
   "metadata": {},
   "outputs": [
    {
     "data": {
      "text/html": [
       "<div>\n",
       "<style scoped>\n",
       "    .dataframe tbody tr th:only-of-type {\n",
       "        vertical-align: middle;\n",
       "    }\n",
       "\n",
       "    .dataframe tbody tr th {\n",
       "        vertical-align: top;\n",
       "    }\n",
       "\n",
       "    .dataframe thead th {\n",
       "        text-align: right;\n",
       "    }\n",
       "</style>\n",
       "<table border=\"1\" class=\"dataframe\">\n",
       "  <thead>\n",
       "    <tr style=\"text-align: right;\">\n",
       "      <th></th>\n",
       "      <th>id_curso</th>\n",
       "      <th>area_conhecimento</th>\n",
       "      <th>campus</th>\n",
       "      <th>id_unidade_responsavel</th>\n",
       "      <th>unidade_responsavel</th>\n",
       "      <th>matricula</th>\n",
       "      <th>nome_discente</th>\n",
       "      <th>ano_ingresso</th>\n",
       "      <th>status</th>\n",
       "      <th>nivel_ensino</th>\n",
       "      <th>nome_curso</th>\n",
       "      <th>modalidade_educacao</th>\n",
       "      <th>id_unidade</th>\n",
       "      <th>nome_unidade</th>\n",
       "    </tr>\n",
       "  </thead>\n",
       "  <tbody>\n",
       "    <tr>\n",
       "      <th>12039</th>\n",
       "      <td>85436676</td>\n",
       "      <td>Ciências da Saúde</td>\n",
       "      <td>NaN</td>\n",
       "      <td>441</td>\n",
       "      <td>CENTRO DE CIÊNCIAS DA SAÚDE</td>\n",
       "      <td>2.012008e+09</td>\n",
       "      <td>CARLOS EDUARDO TEIXEIRA DE LIMA</td>\n",
       "      <td>2012</td>\n",
       "      <td>CANCELADO</td>\n",
       "      <td>GRADUAÇÃO</td>\n",
       "      <td>EDUCAÇÃO FÍSICA</td>\n",
       "      <td>PRESENCIAL</td>\n",
       "      <td>441.0</td>\n",
       "      <td>CENTRO DE CIÊNCIAS DA SAÚDE</td>\n",
       "    </tr>\n",
       "    <tr>\n",
       "      <th>12040</th>\n",
       "      <td>85436676</td>\n",
       "      <td>Ciências da Saúde</td>\n",
       "      <td>NaN</td>\n",
       "      <td>441</td>\n",
       "      <td>CENTRO DE CIÊNCIAS DA SAÚDE</td>\n",
       "      <td>2.014067e+09</td>\n",
       "      <td>ANTONILDO LUCAS PINHEIRO DA SILVA</td>\n",
       "      <td>2014</td>\n",
       "      <td>CANCELADO</td>\n",
       "      <td>GRADUAÇÃO</td>\n",
       "      <td>EDUCAÇÃO FÍSICA</td>\n",
       "      <td>PRESENCIAL</td>\n",
       "      <td>441.0</td>\n",
       "      <td>CENTRO DE CIÊNCIAS DA SAÚDE</td>\n",
       "    </tr>\n",
       "    <tr>\n",
       "      <th>12041</th>\n",
       "      <td>85436676</td>\n",
       "      <td>Ciências da Saúde</td>\n",
       "      <td>NaN</td>\n",
       "      <td>441</td>\n",
       "      <td>CENTRO DE CIÊNCIAS DA SAÚDE</td>\n",
       "      <td>2.014067e+09</td>\n",
       "      <td>BRUNA KARLA DA SILVA FONSECA</td>\n",
       "      <td>2014</td>\n",
       "      <td>CANCELADO</td>\n",
       "      <td>GRADUAÇÃO</td>\n",
       "      <td>EDUCAÇÃO FÍSICA</td>\n",
       "      <td>PRESENCIAL</td>\n",
       "      <td>441.0</td>\n",
       "      <td>CENTRO DE CIÊNCIAS DA SAÚDE</td>\n",
       "    </tr>\n",
       "    <tr>\n",
       "      <th>12042</th>\n",
       "      <td>85436676</td>\n",
       "      <td>Ciências da Saúde</td>\n",
       "      <td>NaN</td>\n",
       "      <td>441</td>\n",
       "      <td>CENTRO DE CIÊNCIAS DA SAÚDE</td>\n",
       "      <td>2.014067e+09</td>\n",
       "      <td>DANIELY ALINY DA SILVA BARROS</td>\n",
       "      <td>2014</td>\n",
       "      <td>CANCELADO</td>\n",
       "      <td>GRADUAÇÃO</td>\n",
       "      <td>EDUCAÇÃO FÍSICA</td>\n",
       "      <td>PRESENCIAL</td>\n",
       "      <td>441.0</td>\n",
       "      <td>CENTRO DE CIÊNCIAS DA SAÚDE</td>\n",
       "    </tr>\n",
       "    <tr>\n",
       "      <th>12043</th>\n",
       "      <td>85436676</td>\n",
       "      <td>Ciências da Saúde</td>\n",
       "      <td>NaN</td>\n",
       "      <td>441</td>\n",
       "      <td>CENTRO DE CIÊNCIAS DA SAÚDE</td>\n",
       "      <td>2.014067e+09</td>\n",
       "      <td>JOSÉ ÍTALO SOARES SILVA</td>\n",
       "      <td>2014</td>\n",
       "      <td>CANCELADO</td>\n",
       "      <td>GRADUAÇÃO</td>\n",
       "      <td>EDUCAÇÃO FÍSICA</td>\n",
       "      <td>PRESENCIAL</td>\n",
       "      <td>441.0</td>\n",
       "      <td>CENTRO DE CIÊNCIAS DA SAÚDE</td>\n",
       "    </tr>\n",
       "  </tbody>\n",
       "</table>\n",
       "</div>"
      ],
      "text/plain": [
       "       id_curso  area_conhecimento campus  id_unidade_responsavel  \\\n",
       "12039  85436676  Ciências da Saúde    NaN                     441   \n",
       "12040  85436676  Ciências da Saúde    NaN                     441   \n",
       "12041  85436676  Ciências da Saúde    NaN                     441   \n",
       "12042  85436676  Ciências da Saúde    NaN                     441   \n",
       "12043  85436676  Ciências da Saúde    NaN                     441   \n",
       "\n",
       "               unidade_responsavel     matricula  \\\n",
       "12039  CENTRO DE CIÊNCIAS DA SAÚDE  2.012008e+09   \n",
       "12040  CENTRO DE CIÊNCIAS DA SAÚDE  2.014067e+09   \n",
       "12041  CENTRO DE CIÊNCIAS DA SAÚDE  2.014067e+09   \n",
       "12042  CENTRO DE CIÊNCIAS DA SAÚDE  2.014067e+09   \n",
       "12043  CENTRO DE CIÊNCIAS DA SAÚDE  2.014067e+09   \n",
       "\n",
       "                           nome_discente  ano_ingresso     status  \\\n",
       "12039    CARLOS EDUARDO TEIXEIRA DE LIMA          2012  CANCELADO   \n",
       "12040  ANTONILDO LUCAS PINHEIRO DA SILVA          2014  CANCELADO   \n",
       "12041       BRUNA KARLA DA SILVA FONSECA          2014  CANCELADO   \n",
       "12042      DANIELY ALINY DA SILVA BARROS          2014  CANCELADO   \n",
       "12043            JOSÉ ÍTALO SOARES SILVA          2014  CANCELADO   \n",
       "\n",
       "      nivel_ensino       nome_curso modalidade_educacao  id_unidade  \\\n",
       "12039    GRADUAÇÃO  EDUCAÇÃO FÍSICA          PRESENCIAL       441.0   \n",
       "12040    GRADUAÇÃO  EDUCAÇÃO FÍSICA          PRESENCIAL       441.0   \n",
       "12041    GRADUAÇÃO  EDUCAÇÃO FÍSICA          PRESENCIAL       441.0   \n",
       "12042    GRADUAÇÃO  EDUCAÇÃO FÍSICA          PRESENCIAL       441.0   \n",
       "12043    GRADUAÇÃO  EDUCAÇÃO FÍSICA          PRESENCIAL       441.0   \n",
       "\n",
       "                      nome_unidade  \n",
       "12039  CENTRO DE CIÊNCIAS DA SAÚDE  \n",
       "12040  CENTRO DE CIÊNCIAS DA SAÚDE  \n",
       "12041  CENTRO DE CIÊNCIAS DA SAÚDE  \n",
       "12042  CENTRO DE CIÊNCIAS DA SAÚDE  \n",
       "12043  CENTRO DE CIÊNCIAS DA SAÚDE  "
      ]
     },
     "execution_count": 14,
     "metadata": {},
     "output_type": "execute_result"
    }
   ],
   "source": [
    "biomedical.head()"
   ]
  },
  {
   "cell_type": "markdown",
   "metadata": {},
   "source": [
    "#### 7.2.1. Table with the amount of each year's canceled students on bio and health sciences units ####"
   ]
  },
  {
   "cell_type": "markdown",
   "metadata": {},
   "source": [
    "Here, we created a pivot table to store the amount of cancelled registrations on the bio and health sciences units, each year."
   ]
  },
  {
   "cell_type": "code",
   "execution_count": 15,
   "metadata": {},
   "outputs": [
    {
     "data": {
      "text/html": [
       "<div>\n",
       "<style scoped>\n",
       "    .dataframe tbody tr th:only-of-type {\n",
       "        vertical-align: middle;\n",
       "    }\n",
       "\n",
       "    .dataframe tbody tr th {\n",
       "        vertical-align: top;\n",
       "    }\n",
       "\n",
       "    .dataframe thead th {\n",
       "        text-align: right;\n",
       "    }\n",
       "</style>\n",
       "<table border=\"1\" class=\"dataframe\">\n",
       "  <thead>\n",
       "    <tr style=\"text-align: right;\">\n",
       "      <th></th>\n",
       "      <th>ano_ingresso</th>\n",
       "      <th>amount</th>\n",
       "    </tr>\n",
       "  </thead>\n",
       "  <tbody>\n",
       "    <tr>\n",
       "      <th>0</th>\n",
       "      <td>2009</td>\n",
       "      <td>355</td>\n",
       "    </tr>\n",
       "    <tr>\n",
       "      <th>1</th>\n",
       "      <td>2010</td>\n",
       "      <td>498</td>\n",
       "    </tr>\n",
       "    <tr>\n",
       "      <th>2</th>\n",
       "      <td>2011</td>\n",
       "      <td>445</td>\n",
       "    </tr>\n",
       "    <tr>\n",
       "      <th>3</th>\n",
       "      <td>2012</td>\n",
       "      <td>864</td>\n",
       "    </tr>\n",
       "    <tr>\n",
       "      <th>4</th>\n",
       "      <td>2013</td>\n",
       "      <td>513</td>\n",
       "    </tr>\n",
       "    <tr>\n",
       "      <th>5</th>\n",
       "      <td>2014</td>\n",
       "      <td>584</td>\n",
       "    </tr>\n",
       "    <tr>\n",
       "      <th>6</th>\n",
       "      <td>2015</td>\n",
       "      <td>316</td>\n",
       "    </tr>\n",
       "    <tr>\n",
       "      <th>7</th>\n",
       "      <td>2016</td>\n",
       "      <td>272</td>\n",
       "    </tr>\n",
       "  </tbody>\n",
       "</table>\n",
       "</div>"
      ],
      "text/plain": [
       "   ano_ingresso  amount\n",
       "0          2009     355\n",
       "1          2010     498\n",
       "2          2011     445\n",
       "3          2012     864\n",
       "4          2013     513\n",
       "5          2014     584\n",
       "6          2015     316\n",
       "7          2016     272"
      ]
     },
     "execution_count": 15,
     "metadata": {},
     "output_type": "execute_result"
    }
   ],
   "source": [
    "bio = pd.pivot_table(biomedical,\n",
    "               index='ano_ingresso',\n",
    "               values = 'nome_curso',\n",
    "               aggfunc='count').fillna(0).astype(int).reset_index()\n",
    "bio.rename(columns={'nome_curso': 'amount'}, inplace=True)\n",
    "bio"
   ]
  },
  {
   "cell_type": "markdown",
   "metadata": {},
   "source": [
    "#### 7.2.2. Graphic with the amount of each year's cancelled students on bio and health sciences units ####"
   ]
  },
  {
   "cell_type": "markdown",
   "metadata": {},
   "source": [
    "Using the pivot table created before, we plotted a chart."
   ]
  },
  {
   "cell_type": "code",
   "execution_count": 16,
   "metadata": {},
   "outputs": [
    {
     "data": {
      "image/png": "[encoded data removed]",
      "text/plain": [
       "<matplotlib.figure.Figure at 0x29141407358>"
      ]
     },
     "metadata": {},
     "output_type": "display_data"
    }
   ],
   "source": [
    "plt.plot(bio['ano_ingresso'], \n",
    "         bio['amount'], c=_orange, label='Bio and Health')\n",
    "plt.legend(loc='best')\n",
    "plt.xlabel('Years')\n",
    "plt.ylabel('Amount')\n",
    "plt.title(\"Amount of cancelled students on bioscience and health science units\")\n",
    "plt.show()"
   ]
  },
  {
   "cell_type": "markdown",
   "metadata": {},
   "source": [
    "#### 7.3. Humanities unit ###"
   ]
  },
  {
   "cell_type": "markdown",
   "metadata": {},
   "source": [
    "Here we select the courses with the responsable unit called 'CENTRO DE CIÊNCIAS HUMANAS, LETRAS E ARTES' and then we list them."
   ]
  },
  {
   "cell_type": "code",
   "execution_count": 17,
   "metadata": {},
   "outputs": [
    {
     "data": {
      "text/plain": [
       "['ARTES VISUAIS',\n",
       " 'CIÊNCIAS SOCIAIS',\n",
       " 'COMUNICAÇÃO SOCIAL',\n",
       " 'COMUNICAÇÃO SOCIAL - AUDIOVISUAL',\n",
       " 'COMUNICAÇÃO SOCIAL- PUBLICIDADE E PROPAGANDA',\n",
       " 'DANÇA',\n",
       " 'DESIGN',\n",
       " 'FILOSOFIA',\n",
       " 'GEOGRAFIA',\n",
       " 'GESTÃO DE POLÍTICAS PÚBLICAS',\n",
       " 'HISTÓRIA',\n",
       " 'JORNALISMO',\n",
       " 'LETRAS',\n",
       " 'LETRAS - FRANCÊS',\n",
       " 'LETRAS - INGLÊS',\n",
       " 'LETRAS - LÍNGUA ESPANHOLA',\n",
       " 'LETRAS - LÍNGUA PORTUGUESA',\n",
       " 'LETRAS - LÍNGUA PORTUGUESA E LIBRAS',\n",
       " 'LICENCIATURA EM CIÊNCIAS SOCIAIS',\n",
       " 'PSICOLOGIA',\n",
       " 'TEATRO']"
      ]
     },
     "execution_count": 17,
     "metadata": {},
     "output_type": "execute_result"
    }
   ],
   "source": [
    "humanities = merge_coursesdis[merge_coursesdis.unidade_responsavel == \"CENTRO DE CIÊNCIAS HUMANAS, LETRAS E ARTES\"]\n",
    "humanities.nome_curso.unique().tolist()"
   ]
  },
  {
   "cell_type": "code",
   "execution_count": 18,
   "metadata": {
    "scrolled": false
   },
   "outputs": [
    {
     "data": {
      "text/html": [
       "<div>\n",
       "<style scoped>\n",
       "    .dataframe tbody tr th:only-of-type {\n",
       "        vertical-align: middle;\n",
       "    }\n",
       "\n",
       "    .dataframe tbody tr th {\n",
       "        vertical-align: top;\n",
       "    }\n",
       "\n",
       "    .dataframe thead th {\n",
       "        text-align: right;\n",
       "    }\n",
       "</style>\n",
       "<table border=\"1\" class=\"dataframe\">\n",
       "  <thead>\n",
       "    <tr style=\"text-align: right;\">\n",
       "      <th></th>\n",
       "      <th>id_curso</th>\n",
       "      <th>area_conhecimento</th>\n",
       "      <th>campus</th>\n",
       "      <th>id_unidade_responsavel</th>\n",
       "      <th>unidade_responsavel</th>\n",
       "      <th>matricula</th>\n",
       "      <th>nome_discente</th>\n",
       "      <th>ano_ingresso</th>\n",
       "      <th>status</th>\n",
       "      <th>nivel_ensino</th>\n",
       "      <th>nome_curso</th>\n",
       "      <th>modalidade_educacao</th>\n",
       "      <th>id_unidade</th>\n",
       "      <th>nome_unidade</th>\n",
       "    </tr>\n",
       "  </thead>\n",
       "  <tbody>\n",
       "    <tr>\n",
       "      <th>1422</th>\n",
       "      <td>2000123</td>\n",
       "      <td>Linguística, Letras e Artes</td>\n",
       "      <td>Campus Central</td>\n",
       "      <td>442</td>\n",
       "      <td>CENTRO DE CIÊNCIAS HUMANAS, LETRAS E ARTES</td>\n",
       "      <td>2.009013e+09</td>\n",
       "      <td>ADRIANA RODRIGUES DA SILVA</td>\n",
       "      <td>2009</td>\n",
       "      <td>CANCELADO</td>\n",
       "      <td>GRADUAÇÃO</td>\n",
       "      <td>ARTES VISUAIS</td>\n",
       "      <td>PRESENCIAL</td>\n",
       "      <td>442.0</td>\n",
       "      <td>CENTRO DE CIÊNCIAS HUMANAS, LETRAS E ARTES</td>\n",
       "    </tr>\n",
       "    <tr>\n",
       "      <th>1423</th>\n",
       "      <td>2000123</td>\n",
       "      <td>Linguística, Letras e Artes</td>\n",
       "      <td>Campus Central</td>\n",
       "      <td>442</td>\n",
       "      <td>CENTRO DE CIÊNCIAS HUMANAS, LETRAS E ARTES</td>\n",
       "      <td>2.009013e+09</td>\n",
       "      <td>ALICE TIBURCIO DE LIMA</td>\n",
       "      <td>2009</td>\n",
       "      <td>CANCELADO</td>\n",
       "      <td>GRADUAÇÃO</td>\n",
       "      <td>ARTES VISUAIS</td>\n",
       "      <td>PRESENCIAL</td>\n",
       "      <td>442.0</td>\n",
       "      <td>CENTRO DE CIÊNCIAS HUMANAS, LETRAS E ARTES</td>\n",
       "    </tr>\n",
       "    <tr>\n",
       "      <th>1424</th>\n",
       "      <td>2000123</td>\n",
       "      <td>Linguística, Letras e Artes</td>\n",
       "      <td>Campus Central</td>\n",
       "      <td>442</td>\n",
       "      <td>CENTRO DE CIÊNCIAS HUMANAS, LETRAS E ARTES</td>\n",
       "      <td>2.009013e+09</td>\n",
       "      <td>ANA BEATRIZ SOARES PIRES</td>\n",
       "      <td>2009</td>\n",
       "      <td>CANCELADO</td>\n",
       "      <td>GRADUAÇÃO</td>\n",
       "      <td>ARTES VISUAIS</td>\n",
       "      <td>PRESENCIAL</td>\n",
       "      <td>442.0</td>\n",
       "      <td>CENTRO DE CIÊNCIAS HUMANAS, LETRAS E ARTES</td>\n",
       "    </tr>\n",
       "    <tr>\n",
       "      <th>1425</th>\n",
       "      <td>2000123</td>\n",
       "      <td>Linguística, Letras e Artes</td>\n",
       "      <td>Campus Central</td>\n",
       "      <td>442</td>\n",
       "      <td>CENTRO DE CIÊNCIAS HUMANAS, LETRAS E ARTES</td>\n",
       "      <td>2.009013e+09</td>\n",
       "      <td>ANA CAROLINA GONÇALVES ROCHA</td>\n",
       "      <td>2009</td>\n",
       "      <td>CANCELADO</td>\n",
       "      <td>GRADUAÇÃO</td>\n",
       "      <td>ARTES VISUAIS</td>\n",
       "      <td>PRESENCIAL</td>\n",
       "      <td>442.0</td>\n",
       "      <td>CENTRO DE CIÊNCIAS HUMANAS, LETRAS E ARTES</td>\n",
       "    </tr>\n",
       "    <tr>\n",
       "      <th>1426</th>\n",
       "      <td>2000123</td>\n",
       "      <td>Linguística, Letras e Artes</td>\n",
       "      <td>Campus Central</td>\n",
       "      <td>442</td>\n",
       "      <td>CENTRO DE CIÊNCIAS HUMANAS, LETRAS E ARTES</td>\n",
       "      <td>2.009013e+09</td>\n",
       "      <td>ARANDÚ TESSAPORAM PINHEIRO</td>\n",
       "      <td>2009</td>\n",
       "      <td>CANCELADO</td>\n",
       "      <td>GRADUAÇÃO</td>\n",
       "      <td>ARTES VISUAIS</td>\n",
       "      <td>PRESENCIAL</td>\n",
       "      <td>442.0</td>\n",
       "      <td>CENTRO DE CIÊNCIAS HUMANAS, LETRAS E ARTES</td>\n",
       "    </tr>\n",
       "  </tbody>\n",
       "</table>\n",
       "</div>"
      ],
      "text/plain": [
       "     id_curso            area_conhecimento          campus  \\\n",
       "1422  2000123  Linguística, Letras e Artes  Campus Central   \n",
       "1423  2000123  Linguística, Letras e Artes  Campus Central   \n",
       "1424  2000123  Linguística, Letras e Artes  Campus Central   \n",
       "1425  2000123  Linguística, Letras e Artes  Campus Central   \n",
       "1426  2000123  Linguística, Letras e Artes  Campus Central   \n",
       "\n",
       "      id_unidade_responsavel                         unidade_responsavel  \\\n",
       "1422                     442  CENTRO DE CIÊNCIAS HUMANAS, LETRAS E ARTES   \n",
       "1423                     442  CENTRO DE CIÊNCIAS HUMANAS, LETRAS E ARTES   \n",
       "1424                     442  CENTRO DE CIÊNCIAS HUMANAS, LETRAS E ARTES   \n",
       "1425                     442  CENTRO DE CIÊNCIAS HUMANAS, LETRAS E ARTES   \n",
       "1426                     442  CENTRO DE CIÊNCIAS HUMANAS, LETRAS E ARTES   \n",
       "\n",
       "         matricula                 nome_discente  ano_ingresso     status  \\\n",
       "1422  2.009013e+09    ADRIANA RODRIGUES DA SILVA          2009  CANCELADO   \n",
       "1423  2.009013e+09        ALICE TIBURCIO DE LIMA          2009  CANCELADO   \n",
       "1424  2.009013e+09      ANA BEATRIZ SOARES PIRES          2009  CANCELADO   \n",
       "1425  2.009013e+09  ANA CAROLINA GONÇALVES ROCHA          2009  CANCELADO   \n",
       "1426  2.009013e+09    ARANDÚ TESSAPORAM PINHEIRO          2009  CANCELADO   \n",
       "\n",
       "     nivel_ensino     nome_curso modalidade_educacao  id_unidade  \\\n",
       "1422    GRADUAÇÃO  ARTES VISUAIS          PRESENCIAL       442.0   \n",
       "1423    GRADUAÇÃO  ARTES VISUAIS          PRESENCIAL       442.0   \n",
       "1424    GRADUAÇÃO  ARTES VISUAIS          PRESENCIAL       442.0   \n",
       "1425    GRADUAÇÃO  ARTES VISUAIS          PRESENCIAL       442.0   \n",
       "1426    GRADUAÇÃO  ARTES VISUAIS          PRESENCIAL       442.0   \n",
       "\n",
       "                                    nome_unidade  \n",
       "1422  CENTRO DE CIÊNCIAS HUMANAS, LETRAS E ARTES  \n",
       "1423  CENTRO DE CIÊNCIAS HUMANAS, LETRAS E ARTES  \n",
       "1424  CENTRO DE CIÊNCIAS HUMANAS, LETRAS E ARTES  \n",
       "1425  CENTRO DE CIÊNCIAS HUMANAS, LETRAS E ARTES  \n",
       "1426  CENTRO DE CIÊNCIAS HUMANAS, LETRAS E ARTES  "
      ]
     },
     "execution_count": 18,
     "metadata": {},
     "output_type": "execute_result"
    }
   ],
   "source": [
    "humanities.head()"
   ]
  },
  {
   "cell_type": "markdown",
   "metadata": {},
   "source": [
    "#### 7.3.1. Table with the amount of each year's cancelled students on humanities unit ####"
   ]
  },
  {
   "cell_type": "markdown",
   "metadata": {},
   "source": [
    "Here, we created a pivot table to store the amount of cancelled registrations on the humanities unit, each year."
   ]
  },
  {
   "cell_type": "code",
   "execution_count": 19,
   "metadata": {
    "scrolled": false
   },
   "outputs": [
    {
     "data": {
      "text/html": [
       "<div>\n",
       "<style scoped>\n",
       "    .dataframe tbody tr th:only-of-type {\n",
       "        vertical-align: middle;\n",
       "    }\n",
       "\n",
       "    .dataframe tbody tr th {\n",
       "        vertical-align: top;\n",
       "    }\n",
       "\n",
       "    .dataframe thead th {\n",
       "        text-align: right;\n",
       "    }\n",
       "</style>\n",
       "<table border=\"1\" class=\"dataframe\">\n",
       "  <thead>\n",
       "    <tr style=\"text-align: right;\">\n",
       "      <th></th>\n",
       "      <th>ano_ingresso</th>\n",
       "      <th>amount</th>\n",
       "    </tr>\n",
       "  </thead>\n",
       "  <tbody>\n",
       "    <tr>\n",
       "      <th>0</th>\n",
       "      <td>2009</td>\n",
       "      <td>619</td>\n",
       "    </tr>\n",
       "    <tr>\n",
       "      <th>1</th>\n",
       "      <td>2010</td>\n",
       "      <td>672</td>\n",
       "    </tr>\n",
       "    <tr>\n",
       "      <th>2</th>\n",
       "      <td>2011</td>\n",
       "      <td>567</td>\n",
       "    </tr>\n",
       "    <tr>\n",
       "      <th>3</th>\n",
       "      <td>2012</td>\n",
       "      <td>771</td>\n",
       "    </tr>\n",
       "    <tr>\n",
       "      <th>4</th>\n",
       "      <td>2013</td>\n",
       "      <td>615</td>\n",
       "    </tr>\n",
       "    <tr>\n",
       "      <th>5</th>\n",
       "      <td>2014</td>\n",
       "      <td>772</td>\n",
       "    </tr>\n",
       "    <tr>\n",
       "      <th>6</th>\n",
       "      <td>2015</td>\n",
       "      <td>348</td>\n",
       "    </tr>\n",
       "    <tr>\n",
       "      <th>7</th>\n",
       "      <td>2016</td>\n",
       "      <td>288</td>\n",
       "    </tr>\n",
       "  </tbody>\n",
       "</table>\n",
       "</div>"
      ],
      "text/plain": [
       "   ano_ingresso  amount\n",
       "0          2009     619\n",
       "1          2010     672\n",
       "2          2011     567\n",
       "3          2012     771\n",
       "4          2013     615\n",
       "5          2014     772\n",
       "6          2015     348\n",
       "7          2016     288"
      ]
     },
     "execution_count": 19,
     "metadata": {},
     "output_type": "execute_result"
    }
   ],
   "source": [
    "h = pd.pivot_table(humanities,\n",
    "               index='ano_ingresso',\n",
    "               values = 'nome_curso',\n",
    "               aggfunc='count').fillna(0).astype(int).reset_index()\n",
    "h.rename(columns={'nome_curso': 'amount'}, inplace=True)\n",
    "h"
   ]
  },
  {
   "cell_type": "markdown",
   "metadata": {},
   "source": [
    "#### 7.3.2. Graphic with the amount of each year's cancelled students on humanities unit ####"
   ]
  },
  {
   "cell_type": "markdown",
   "metadata": {},
   "source": [
    "Then, using the pivot table created before, we plotted a chart. "
   ]
  },
  {
   "cell_type": "code",
   "execution_count": 20,
   "metadata": {},
   "outputs": [
    {
     "data": {
      "image/png": "[encoded data removed]",
      "text/plain": [
       "<matplotlib.figure.Figure at 0x291413c0240>"
      ]
     },
     "metadata": {},
     "output_type": "display_data"
    }
   ],
   "source": [
    "plt.plot(h['ano_ingresso'], \n",
    "         h['amount'], c=_green, label='Humanities')\n",
    "plt.legend(loc='best')\n",
    "plt.xlabel('Years')\n",
    "plt.ylabel('Amount')\n",
    "plt.title('Amount of cancelled students on humanities unit')\n",
    "plt.show()"
   ]
  },
  {
   "cell_type": "markdown",
   "metadata": {},
   "source": [
    "#### 7.4. Exact and Earth Sciences unit ###"
   ]
  },
  {
   "cell_type": "markdown",
   "metadata": {},
   "source": [
    "Here we select the courses with the responsable unit called 'CENTRO DE CIÊNCIAS EXATAS E DA TERRA' and then we list them."
   ]
  },
  {
   "cell_type": "code",
   "execution_count": 21,
   "metadata": {},
   "outputs": [
    {
     "data": {
      "text/plain": [
       "['CIÊNCIA DA COMPUTAÇÃO',\n",
       " 'CIÊNCIAS ATUARIAIS',\n",
       " 'ENGENHARIA DE SOFTWARE',\n",
       " 'ESTATÍSTICA',\n",
       " 'FÍSICA',\n",
       " 'GEOFÍSICA',\n",
       " 'GEOLOGIA',\n",
       " 'MATEMÁTICA',\n",
       " 'METEOROLOGIA',\n",
       " 'QUÍMICA',\n",
       " 'QUÍMICA DO PETRÓLEO']"
      ]
     },
     "execution_count": 21,
     "metadata": {},
     "output_type": "execute_result"
    }
   ],
   "source": [
    "math_science = merge_coursesdis[merge_coursesdis.unidade_responsavel == \"CENTRO DE CIÊNCIAS EXATAS E DA TERRA\"]\n",
    "math_science.nome_curso.unique().tolist()"
   ]
  },
  {
   "cell_type": "code",
   "execution_count": 22,
   "metadata": {},
   "outputs": [
    {
     "data": {
      "text/html": [
       "<div>\n",
       "<style scoped>\n",
       "    .dataframe tbody tr th:only-of-type {\n",
       "        vertical-align: middle;\n",
       "    }\n",
       "\n",
       "    .dataframe tbody tr th {\n",
       "        vertical-align: top;\n",
       "    }\n",
       "\n",
       "    .dataframe thead th {\n",
       "        text-align: right;\n",
       "    }\n",
       "</style>\n",
       "<table border=\"1\" class=\"dataframe\">\n",
       "  <thead>\n",
       "    <tr style=\"text-align: right;\">\n",
       "      <th></th>\n",
       "      <th>id_curso</th>\n",
       "      <th>area_conhecimento</th>\n",
       "      <th>campus</th>\n",
       "      <th>id_unidade_responsavel</th>\n",
       "      <th>unidade_responsavel</th>\n",
       "      <th>matricula</th>\n",
       "      <th>nome_discente</th>\n",
       "      <th>ano_ingresso</th>\n",
       "      <th>status</th>\n",
       "      <th>nivel_ensino</th>\n",
       "      <th>nome_curso</th>\n",
       "      <th>modalidade_educacao</th>\n",
       "      <th>id_unidade</th>\n",
       "      <th>nome_unidade</th>\n",
       "    </tr>\n",
       "  </thead>\n",
       "  <tbody>\n",
       "    <tr>\n",
       "      <th>1925</th>\n",
       "      <td>2000013</td>\n",
       "      <td>Ciências Exatas e da Terra</td>\n",
       "      <td>Campus Central</td>\n",
       "      <td>439</td>\n",
       "      <td>CENTRO DE CIÊNCIAS EXATAS E DA TERRA</td>\n",
       "      <td>2.009034e+09</td>\n",
       "      <td>AIRY IRÊRÊ PIMENTEL GOMES</td>\n",
       "      <td>2009</td>\n",
       "      <td>CANCELADO</td>\n",
       "      <td>GRADUAÇÃO</td>\n",
       "      <td>CIÊNCIA DA COMPUTAÇÃO</td>\n",
       "      <td>PRESENCIAL</td>\n",
       "      <td>439.0</td>\n",
       "      <td>CENTRO DE CIÊNCIAS EXATAS E DA TERRA</td>\n",
       "    </tr>\n",
       "    <tr>\n",
       "      <th>1926</th>\n",
       "      <td>2000013</td>\n",
       "      <td>Ciências Exatas e da Terra</td>\n",
       "      <td>Campus Central</td>\n",
       "      <td>439</td>\n",
       "      <td>CENTRO DE CIÊNCIAS EXATAS E DA TERRA</td>\n",
       "      <td>2.009034e+09</td>\n",
       "      <td>AMANDA PRISCILLA ARAÚJO DA SILVA</td>\n",
       "      <td>2009</td>\n",
       "      <td>CANCELADO</td>\n",
       "      <td>GRADUAÇÃO</td>\n",
       "      <td>CIÊNCIA DA COMPUTAÇÃO</td>\n",
       "      <td>PRESENCIAL</td>\n",
       "      <td>439.0</td>\n",
       "      <td>CENTRO DE CIÊNCIAS EXATAS E DA TERRA</td>\n",
       "    </tr>\n",
       "    <tr>\n",
       "      <th>1927</th>\n",
       "      <td>2000013</td>\n",
       "      <td>Ciências Exatas e da Terra</td>\n",
       "      <td>Campus Central</td>\n",
       "      <td>439</td>\n",
       "      <td>CENTRO DE CIÊNCIAS EXATAS E DA TERRA</td>\n",
       "      <td>2.009034e+09</td>\n",
       "      <td>ANANIAS RODRIGUES CHAVES NETO</td>\n",
       "      <td>2009</td>\n",
       "      <td>CANCELADO</td>\n",
       "      <td>GRADUAÇÃO</td>\n",
       "      <td>CIÊNCIA DA COMPUTAÇÃO</td>\n",
       "      <td>PRESENCIAL</td>\n",
       "      <td>439.0</td>\n",
       "      <td>CENTRO DE CIÊNCIAS EXATAS E DA TERRA</td>\n",
       "    </tr>\n",
       "    <tr>\n",
       "      <th>1928</th>\n",
       "      <td>2000013</td>\n",
       "      <td>Ciências Exatas e da Terra</td>\n",
       "      <td>Campus Central</td>\n",
       "      <td>439</td>\n",
       "      <td>CENTRO DE CIÊNCIAS EXATAS E DA TERRA</td>\n",
       "      <td>2.009034e+09</td>\n",
       "      <td>ANDRÉ LUIZ DA SILVA SOARES</td>\n",
       "      <td>2009</td>\n",
       "      <td>CANCELADO</td>\n",
       "      <td>GRADUAÇÃO</td>\n",
       "      <td>CIÊNCIA DA COMPUTAÇÃO</td>\n",
       "      <td>PRESENCIAL</td>\n",
       "      <td>439.0</td>\n",
       "      <td>CENTRO DE CIÊNCIAS EXATAS E DA TERRA</td>\n",
       "    </tr>\n",
       "    <tr>\n",
       "      <th>1929</th>\n",
       "      <td>2000013</td>\n",
       "      <td>Ciências Exatas e da Terra</td>\n",
       "      <td>Campus Central</td>\n",
       "      <td>439</td>\n",
       "      <td>CENTRO DE CIÊNCIAS EXATAS E DA TERRA</td>\n",
       "      <td>2.009034e+09</td>\n",
       "      <td>ANTONYONE INÁCIO PEREIRA DE OLIVEIRA</td>\n",
       "      <td>2009</td>\n",
       "      <td>CANCELADO</td>\n",
       "      <td>GRADUAÇÃO</td>\n",
       "      <td>CIÊNCIA DA COMPUTAÇÃO</td>\n",
       "      <td>PRESENCIAL</td>\n",
       "      <td>439.0</td>\n",
       "      <td>CENTRO DE CIÊNCIAS EXATAS E DA TERRA</td>\n",
       "    </tr>\n",
       "  </tbody>\n",
       "</table>\n",
       "</div>"
      ],
      "text/plain": [
       "     id_curso           area_conhecimento          campus  \\\n",
       "1925  2000013  Ciências Exatas e da Terra  Campus Central   \n",
       "1926  2000013  Ciências Exatas e da Terra  Campus Central   \n",
       "1927  2000013  Ciências Exatas e da Terra  Campus Central   \n",
       "1928  2000013  Ciências Exatas e da Terra  Campus Central   \n",
       "1929  2000013  Ciências Exatas e da Terra  Campus Central   \n",
       "\n",
       "      id_unidade_responsavel                   unidade_responsavel  \\\n",
       "1925                     439  CENTRO DE CIÊNCIAS EXATAS E DA TERRA   \n",
       "1926                     439  CENTRO DE CIÊNCIAS EXATAS E DA TERRA   \n",
       "1927                     439  CENTRO DE CIÊNCIAS EXATAS E DA TERRA   \n",
       "1928                     439  CENTRO DE CIÊNCIAS EXATAS E DA TERRA   \n",
       "1929                     439  CENTRO DE CIÊNCIAS EXATAS E DA TERRA   \n",
       "\n",
       "         matricula                         nome_discente  ano_ingresso  \\\n",
       "1925  2.009034e+09             AIRY IRÊRÊ PIMENTEL GOMES          2009   \n",
       "1926  2.009034e+09      AMANDA PRISCILLA ARAÚJO DA SILVA          2009   \n",
       "1927  2.009034e+09         ANANIAS RODRIGUES CHAVES NETO          2009   \n",
       "1928  2.009034e+09            ANDRÉ LUIZ DA SILVA SOARES          2009   \n",
       "1929  2.009034e+09  ANTONYONE INÁCIO PEREIRA DE OLIVEIRA          2009   \n",
       "\n",
       "         status nivel_ensino             nome_curso modalidade_educacao  \\\n",
       "1925  CANCELADO    GRADUAÇÃO  CIÊNCIA DA COMPUTAÇÃO          PRESENCIAL   \n",
       "1926  CANCELADO    GRADUAÇÃO  CIÊNCIA DA COMPUTAÇÃO          PRESENCIAL   \n",
       "1927  CANCELADO    GRADUAÇÃO  CIÊNCIA DA COMPUTAÇÃO          PRESENCIAL   \n",
       "1928  CANCELADO    GRADUAÇÃO  CIÊNCIA DA COMPUTAÇÃO          PRESENCIAL   \n",
       "1929  CANCELADO    GRADUAÇÃO  CIÊNCIA DA COMPUTAÇÃO          PRESENCIAL   \n",
       "\n",
       "      id_unidade                          nome_unidade  \n",
       "1925       439.0  CENTRO DE CIÊNCIAS EXATAS E DA TERRA  \n",
       "1926       439.0  CENTRO DE CIÊNCIAS EXATAS E DA TERRA  \n",
       "1927       439.0  CENTRO DE CIÊNCIAS EXATAS E DA TERRA  \n",
       "1928       439.0  CENTRO DE CIÊNCIAS EXATAS E DA TERRA  \n",
       "1929       439.0  CENTRO DE CIÊNCIAS EXATAS E DA TERRA  "
      ]
     },
     "execution_count": 22,
     "metadata": {},
     "output_type": "execute_result"
    }
   ],
   "source": [
    "math_science.head()"
   ]
  },
  {
   "cell_type": "markdown",
   "metadata": {},
   "source": [
    "#### 7.4.1. Table with the amount of each year's cancelled students on 'Exact and Earth Sciences' unit ####"
   ]
  },
  {
   "cell_type": "markdown",
   "metadata": {},
   "source": [
    "Here, we created a pivot table to store the amount of cancelled registrations on the exact and earth sciences unit, each year."
   ]
  },
  {
   "cell_type": "code",
   "execution_count": 23,
   "metadata": {
    "scrolled": true
   },
   "outputs": [
    {
     "data": {
      "text/html": [
       "<div>\n",
       "<style scoped>\n",
       "    .dataframe tbody tr th:only-of-type {\n",
       "        vertical-align: middle;\n",
       "    }\n",
       "\n",
       "    .dataframe tbody tr th {\n",
       "        vertical-align: top;\n",
       "    }\n",
       "\n",
       "    .dataframe thead th {\n",
       "        text-align: right;\n",
       "    }\n",
       "</style>\n",
       "<table border=\"1\" class=\"dataframe\">\n",
       "  <thead>\n",
       "    <tr style=\"text-align: right;\">\n",
       "      <th></th>\n",
       "      <th>ano_ingresso</th>\n",
       "      <th>amount</th>\n",
       "    </tr>\n",
       "  </thead>\n",
       "  <tbody>\n",
       "    <tr>\n",
       "      <th>0</th>\n",
       "      <td>2009</td>\n",
       "      <td>656</td>\n",
       "    </tr>\n",
       "    <tr>\n",
       "      <th>1</th>\n",
       "      <td>2010</td>\n",
       "      <td>939</td>\n",
       "    </tr>\n",
       "    <tr>\n",
       "      <th>2</th>\n",
       "      <td>2011</td>\n",
       "      <td>553</td>\n",
       "    </tr>\n",
       "    <tr>\n",
       "      <th>3</th>\n",
       "      <td>2012</td>\n",
       "      <td>756</td>\n",
       "    </tr>\n",
       "    <tr>\n",
       "      <th>4</th>\n",
       "      <td>2013</td>\n",
       "      <td>566</td>\n",
       "    </tr>\n",
       "    <tr>\n",
       "      <th>5</th>\n",
       "      <td>2014</td>\n",
       "      <td>665</td>\n",
       "    </tr>\n",
       "    <tr>\n",
       "      <th>6</th>\n",
       "      <td>2015</td>\n",
       "      <td>335</td>\n",
       "    </tr>\n",
       "    <tr>\n",
       "      <th>7</th>\n",
       "      <td>2016</td>\n",
       "      <td>277</td>\n",
       "    </tr>\n",
       "  </tbody>\n",
       "</table>\n",
       "</div>"
      ],
      "text/plain": [
       "   ano_ingresso  amount\n",
       "0          2009     656\n",
       "1          2010     939\n",
       "2          2011     553\n",
       "3          2012     756\n",
       "4          2013     566\n",
       "5          2014     665\n",
       "6          2015     335\n",
       "7          2016     277"
      ]
     },
     "execution_count": 23,
     "metadata": {},
     "output_type": "execute_result"
    }
   ],
   "source": [
    "m = pd.pivot_table(math_science,\n",
    "               index='ano_ingresso',\n",
    "               values = 'nome_curso',\n",
    "               aggfunc='count').fillna(0).astype(int).reset_index()\n",
    "m.rename(columns={'nome_curso': 'amount'}, inplace=True)\n",
    "m"
   ]
  },
  {
   "cell_type": "markdown",
   "metadata": {},
   "source": [
    "#### 7.4.2. Graphic with the amount of each year's cancelled students on 'Exact and Earth Sciences' unit ####"
   ]
  },
  {
   "cell_type": "markdown",
   "metadata": {},
   "source": [
    "Here, using the pivot table created before, we plotted a chart."
   ]
  },
  {
   "cell_type": "code",
   "execution_count": 24,
   "metadata": {},
   "outputs": [
    {
     "data": {
      "image/png": "[encoded data removed]",
      "text/plain": [
       "<matplotlib.figure.Figure at 0x291414c9400>"
      ]
     },
     "metadata": {},
     "output_type": "display_data"
    }
   ],
   "source": [
    "plt.plot(m['ano_ingresso'], \n",
    "         m['amount'], c=_green, label='Exact and Earth')\n",
    "plt.legend(loc='best')\n",
    "plt.xlabel('Years')\n",
    "plt.ylabel('Amount')\n",
    "plt.title('Exact and Earth Sciences\\'s total of cancelled students between 2009 a 2016')\n",
    "plt.show()"
   ]
  },
  {
   "cell_type": "markdown",
   "metadata": {},
   "source": [
    "### 8. Cancelled students on IT ##"
   ]
  },
  {
   "cell_type": "markdown",
   "metadata": {},
   "source": [
    "Note: The IT course started in 2013"
   ]
  },
  {
   "cell_type": "markdown",
   "metadata": {},
   "source": [
    "Here we define to get only the rows with 'TECNOLOGIA DA INFORMAÇÃO' on the nome_course column. "
   ]
  },
  {
   "cell_type": "code",
   "execution_count": 25,
   "metadata": {},
   "outputs": [
    {
     "data": {
      "text/html": [
       "<div>\n",
       "<style scoped>\n",
       "    .dataframe tbody tr th:only-of-type {\n",
       "        vertical-align: middle;\n",
       "    }\n",
       "\n",
       "    .dataframe tbody tr th {\n",
       "        vertical-align: top;\n",
       "    }\n",
       "\n",
       "    .dataframe thead th {\n",
       "        text-align: right;\n",
       "    }\n",
       "</style>\n",
       "<table border=\"1\" class=\"dataframe\">\n",
       "  <thead>\n",
       "    <tr style=\"text-align: right;\">\n",
       "      <th></th>\n",
       "      <th>id_curso</th>\n",
       "      <th>area_conhecimento</th>\n",
       "      <th>campus</th>\n",
       "      <th>id_unidade_responsavel</th>\n",
       "      <th>unidade_responsavel</th>\n",
       "      <th>matricula</th>\n",
       "      <th>nome_discente</th>\n",
       "      <th>ano_ingresso</th>\n",
       "      <th>status</th>\n",
       "      <th>nivel_ensino</th>\n",
       "      <th>nome_curso</th>\n",
       "      <th>modalidade_educacao</th>\n",
       "      <th>id_unidade</th>\n",
       "      <th>nome_unidade</th>\n",
       "    </tr>\n",
       "  </thead>\n",
       "  <tbody>\n",
       "    <tr>\n",
       "      <th>26499</th>\n",
       "      <td>92127264</td>\n",
       "      <td>Ciências Exatas e da Terra</td>\n",
       "      <td>NaN</td>\n",
       "      <td>6069</td>\n",
       "      <td>INSTITUTO METROPOLE DIGITAL</td>\n",
       "      <td>2.013047e+09</td>\n",
       "      <td>ALESON BELO DA SILVA</td>\n",
       "      <td>2013</td>\n",
       "      <td>CANCELADO</td>\n",
       "      <td>GRADUAÇÃO</td>\n",
       "      <td>TECNOLOGIA DA INFORMAÇÃO</td>\n",
       "      <td>PRESENCIAL</td>\n",
       "      <td>6069.0</td>\n",
       "      <td>INSTITUTO METROPOLE DIGITAL</td>\n",
       "    </tr>\n",
       "    <tr>\n",
       "      <th>26500</th>\n",
       "      <td>92127264</td>\n",
       "      <td>Ciências Exatas e da Terra</td>\n",
       "      <td>NaN</td>\n",
       "      <td>6069</td>\n",
       "      <td>INSTITUTO METROPOLE DIGITAL</td>\n",
       "      <td>2.013042e+09</td>\n",
       "      <td>ALEXANDRE TADEU DE FIGUEIREDO AZEVEDO</td>\n",
       "      <td>2013</td>\n",
       "      <td>CANCELADO</td>\n",
       "      <td>GRADUAÇÃO</td>\n",
       "      <td>TECNOLOGIA DA INFORMAÇÃO</td>\n",
       "      <td>PRESENCIAL</td>\n",
       "      <td>6069.0</td>\n",
       "      <td>INSTITUTO METROPOLE DIGITAL</td>\n",
       "    </tr>\n",
       "    <tr>\n",
       "      <th>26501</th>\n",
       "      <td>92127264</td>\n",
       "      <td>Ciências Exatas e da Terra</td>\n",
       "      <td>NaN</td>\n",
       "      <td>6069</td>\n",
       "      <td>INSTITUTO METROPOLE DIGITAL</td>\n",
       "      <td>2.013021e+09</td>\n",
       "      <td>ALTEMAR ARIOSTENE SOLON</td>\n",
       "      <td>2013</td>\n",
       "      <td>CANCELADO</td>\n",
       "      <td>GRADUAÇÃO</td>\n",
       "      <td>TECNOLOGIA DA INFORMAÇÃO</td>\n",
       "      <td>PRESENCIAL</td>\n",
       "      <td>6069.0</td>\n",
       "      <td>INSTITUTO METROPOLE DIGITAL</td>\n",
       "    </tr>\n",
       "    <tr>\n",
       "      <th>26502</th>\n",
       "      <td>92127264</td>\n",
       "      <td>Ciências Exatas e da Terra</td>\n",
       "      <td>NaN</td>\n",
       "      <td>6069</td>\n",
       "      <td>INSTITUTO METROPOLE DIGITAL</td>\n",
       "      <td>2.013050e+09</td>\n",
       "      <td>ALVARO EDUARDO SILVA SOARES</td>\n",
       "      <td>2013</td>\n",
       "      <td>CANCELADO</td>\n",
       "      <td>GRADUAÇÃO</td>\n",
       "      <td>TECNOLOGIA DA INFORMAÇÃO</td>\n",
       "      <td>PRESENCIAL</td>\n",
       "      <td>6069.0</td>\n",
       "      <td>INSTITUTO METROPOLE DIGITAL</td>\n",
       "    </tr>\n",
       "    <tr>\n",
       "      <th>26503</th>\n",
       "      <td>92127264</td>\n",
       "      <td>Ciências Exatas e da Terra</td>\n",
       "      <td>NaN</td>\n",
       "      <td>6069</td>\n",
       "      <td>INSTITUTO METROPOLE DIGITAL</td>\n",
       "      <td>2.013020e+09</td>\n",
       "      <td>ALYSON DAVID DE CARVALHO LIMA</td>\n",
       "      <td>2013</td>\n",
       "      <td>CANCELADO</td>\n",
       "      <td>GRADUAÇÃO</td>\n",
       "      <td>TECNOLOGIA DA INFORMAÇÃO</td>\n",
       "      <td>PRESENCIAL</td>\n",
       "      <td>6069.0</td>\n",
       "      <td>INSTITUTO METROPOLE DIGITAL</td>\n",
       "    </tr>\n",
       "  </tbody>\n",
       "</table>\n",
       "</div>"
      ],
      "text/plain": [
       "       id_curso           area_conhecimento campus  id_unidade_responsavel  \\\n",
       "26499  92127264  Ciências Exatas e da Terra    NaN                    6069   \n",
       "26500  92127264  Ciências Exatas e da Terra    NaN                    6069   \n",
       "26501  92127264  Ciências Exatas e da Terra    NaN                    6069   \n",
       "26502  92127264  Ciências Exatas e da Terra    NaN                    6069   \n",
       "26503  92127264  Ciências Exatas e da Terra    NaN                    6069   \n",
       "\n",
       "               unidade_responsavel     matricula  \\\n",
       "26499  INSTITUTO METROPOLE DIGITAL  2.013047e+09   \n",
       "26500  INSTITUTO METROPOLE DIGITAL  2.013042e+09   \n",
       "26501  INSTITUTO METROPOLE DIGITAL  2.013021e+09   \n",
       "26502  INSTITUTO METROPOLE DIGITAL  2.013050e+09   \n",
       "26503  INSTITUTO METROPOLE DIGITAL  2.013020e+09   \n",
       "\n",
       "                               nome_discente  ano_ingresso     status  \\\n",
       "26499                   ALESON BELO DA SILVA          2013  CANCELADO   \n",
       "26500  ALEXANDRE TADEU DE FIGUEIREDO AZEVEDO          2013  CANCELADO   \n",
       "26501                ALTEMAR ARIOSTENE SOLON          2013  CANCELADO   \n",
       "26502            ALVARO EDUARDO SILVA SOARES          2013  CANCELADO   \n",
       "26503          ALYSON DAVID DE CARVALHO LIMA          2013  CANCELADO   \n",
       "\n",
       "      nivel_ensino                nome_curso modalidade_educacao  id_unidade  \\\n",
       "26499    GRADUAÇÃO  TECNOLOGIA DA INFORMAÇÃO          PRESENCIAL      6069.0   \n",
       "26500    GRADUAÇÃO  TECNOLOGIA DA INFORMAÇÃO          PRESENCIAL      6069.0   \n",
       "26501    GRADUAÇÃO  TECNOLOGIA DA INFORMAÇÃO          PRESENCIAL      6069.0   \n",
       "26502    GRADUAÇÃO  TECNOLOGIA DA INFORMAÇÃO          PRESENCIAL      6069.0   \n",
       "26503    GRADUAÇÃO  TECNOLOGIA DA INFORMAÇÃO          PRESENCIAL      6069.0   \n",
       "\n",
       "                      nome_unidade  \n",
       "26499  INSTITUTO METROPOLE DIGITAL  \n",
       "26500  INSTITUTO METROPOLE DIGITAL  \n",
       "26501  INSTITUTO METROPOLE DIGITAL  \n",
       "26502  INSTITUTO METROPOLE DIGITAL  \n",
       "26503  INSTITUTO METROPOLE DIGITAL  "
      ]
     },
     "execution_count": 25,
     "metadata": {},
     "output_type": "execute_result"
    }
   ],
   "source": [
    "imd = merge_coursesdis[merge_coursesdis.nome_curso.str.contains('TECNOLOGIA DA INFORMAÇÃO')]\n",
    "imd.head()"
   ]
  },
  {
   "cell_type": "markdown",
   "metadata": {},
   "source": [
    "####  8.1. Tabel with the amount of cancelled students on IT between 2013 and 2016  ####"
   ]
  },
  {
   "cell_type": "markdown",
   "metadata": {},
   "source": [
    "Then, we create a pivot table to store all the cancelled students."
   ]
  },
  {
   "cell_type": "code",
   "execution_count": 26,
   "metadata": {
    "scrolled": true
   },
   "outputs": [
    {
     "data": {
      "text/html": [
       "<div>\n",
       "<style scoped>\n",
       "    .dataframe tbody tr th:only-of-type {\n",
       "        vertical-align: middle;\n",
       "    }\n",
       "\n",
       "    .dataframe tbody tr th {\n",
       "        vertical-align: top;\n",
       "    }\n",
       "\n",
       "    .dataframe thead th {\n",
       "        text-align: right;\n",
       "    }\n",
       "</style>\n",
       "<table border=\"1\" class=\"dataframe\">\n",
       "  <thead>\n",
       "    <tr style=\"text-align: right;\">\n",
       "      <th></th>\n",
       "      <th>ano_ingresso</th>\n",
       "      <th>amount</th>\n",
       "    </tr>\n",
       "  </thead>\n",
       "  <tbody>\n",
       "    <tr>\n",
       "      <th>0</th>\n",
       "      <td>2013</td>\n",
       "      <td>153</td>\n",
       "    </tr>\n",
       "    <tr>\n",
       "      <th>1</th>\n",
       "      <td>2014</td>\n",
       "      <td>163</td>\n",
       "    </tr>\n",
       "    <tr>\n",
       "      <th>2</th>\n",
       "      <td>2015</td>\n",
       "      <td>134</td>\n",
       "    </tr>\n",
       "    <tr>\n",
       "      <th>3</th>\n",
       "      <td>2016</td>\n",
       "      <td>111</td>\n",
       "    </tr>\n",
       "  </tbody>\n",
       "</table>\n",
       "</div>"
      ],
      "text/plain": [
       "   ano_ingresso  amount\n",
       "0          2013     153\n",
       "1          2014     163\n",
       "2          2015     134\n",
       "3          2016     111"
      ]
     },
     "execution_count": 26,
     "metadata": {},
     "output_type": "execute_result"
    }
   ],
   "source": [
    "i = pd.pivot_table(imd,\n",
    "                   index='ano_ingresso',\n",
    "                   values = 'nome_curso',\n",
    "                   aggfunc='count').fillna(0).astype(int).reset_index()\n",
    "i.rename(columns={'nome_curso': 'amount'}, inplace=True)\n",
    "i"
   ]
  },
  {
   "cell_type": "markdown",
   "metadata": {},
   "source": [
    "#### 8.2. Graphic with the amount of cancelled students on IT between 2013 and 2016 ####"
   ]
  },
  {
   "cell_type": "markdown",
   "metadata": {},
   "source": [
    "And with the table with cancelled students, we plotted a chart."
   ]
  },
  {
   "cell_type": "code",
   "execution_count": 27,
   "metadata": {
    "scrolled": true
   },
   "outputs": [
    {
     "data": {
      "image/png": "[encoded data removed]",
      "text/plain": [
       "<matplotlib.figure.Figure at 0x29140f2b5c0>"
      ]
     },
     "metadata": {},
     "output_type": "display_data"
    }
   ],
   "source": [
    "plt.plot(i['ano_ingresso'], \n",
    "         i['amount'], c=dark_blue, label='IT',)\n",
    "plt.legend(loc='best')\n",
    "plt.xlabel('Years')\n",
    "plt.ylabel('Amount')\n",
    "plt.title('Amount canceled students between 2009 and 2016')\n",
    "plt.show()"
   ]
  },
  {
   "cell_type": "markdown",
   "metadata": {},
   "source": [
    "### 9. Comparing Charts ##\n",
    "\n",
    "First we compare each unit."
   ]
  },
  {
   "cell_type": "code",
   "execution_count": 28,
   "metadata": {
    "scrolled": true
   },
   "outputs": [
    {
     "data": {
      "image/png": "[encoded data removed]",
      "text/plain": [
       "<matplotlib.figure.Figure at 0x29140f4d1d0>"
      ]
     },
     "metadata": {},
     "output_type": "display_data"
    }
   ],
   "source": [
    "plt.plot(bio['ano_ingresso'], \n",
    "         bio['amount'], c=_orange, label='Bio and Health')\n",
    "plt.plot(h['ano_ingresso'], \n",
    "         h['amount'], c=_green, label='Humanities')\n",
    "plt.plot(m['ano_ingresso'], \n",
    "         m['amount'], c=dark_blue, label='Exact and Earth')\n",
    "plt.legend(loc='best')\n",
    "plt.xlabel('Years')\n",
    "plt.ylabel('Amount')\n",
    "plt.title('Amount of cancelled students between 2009 and 2016')\n",
    "plt.show()"
   ]
  },
  {
   "cell_type": "markdown",
   "metadata": {},
   "source": [
    "Then we create a table with the total amount of non-cancelled students in each year."
   ]
  },
  {
   "cell_type": "code",
   "execution_count": 29,
   "metadata": {},
   "outputs": [],
   "source": [
    "active = pd.pivot_table(dis_active,\n",
    "                        index='ano_ingresso',\n",
    "                        values = 'nome_curso',\n",
    "                        aggfunc='count').fillna(0).astype(int).reset_index()\n",
    "active.rename(columns={'nome_curso': 'amount'}, inplace=True)"
   ]
  },
  {
   "cell_type": "markdown",
   "metadata": {},
   "source": [
    "And use that last table to create a graph comparing the amount of cancelled and active students."
   ]
  },
  {
   "cell_type": "code",
   "execution_count": 31,
   "metadata": {},
   "outputs": [
    {
     "data": {
      "image/png": "[encoded data removed]",
      "text/plain": [
       "<matplotlib.figure.Figure at 0x291410fcef0>"
      ]
     },
     "metadata": {},
     "output_type": "display_data"
    }
   ],
   "source": [
    "plt.plot(x['ano_ingresso'], \n",
    "         x['amount'], c=dark_blue, label='Cancelled')\n",
    "plt.plot(active['ano_ingresso'], \n",
    "         active['amount'], c=_orange, label='Active or completed')\n",
    "plt.legend(loc='best')\n",
    "plt.xlabel('Years')\n",
    "plt.ylabel('Amount')\n",
    "plt.title('Comparison between cancelled and active/completed students')\n",
    "plt.show()"
   ]
  }
 ],
 "metadata": {
  "kernelspec": {
   "display_name": "Python 3",
   "language": "python",
   "name": "python3"
  },
  "language_info": {
   "codemirror_mode": {
    "name": "ipython",
    "version": 3
   },
   "file_extension": ".py",
   "mimetype": "text/x-python",
   "name": "python",
   "nbconvert_exporter": "python",
   "pygments_lexer": "ipython3",
   "version": "3.6.4"
  }
 },
 "nbformat": 4,
 "nbformat_minor": 2
}
