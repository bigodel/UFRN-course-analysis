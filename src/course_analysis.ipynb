{
 "cells": [
  {
   "cell_type": "markdown",
   "metadata": {},
   "source": [
    "### Starting out with pandas ###\n",
    "\n",
    "In this code snippet we read the csv's to store each year's information in a `pandas` DataFrame in order to extract what we want. The name of the variable comes from the student, which in portuguese is written as *\"aluno\"* or *\"discente\"*."
   ]
  },
  {
   "cell_type": "code",
   "execution_count": 2,
   "metadata": {},
   "outputs": [],
   "source": [
    "import pandas as pd\n",
    "import matplotlib.pyplot as plt\n",
    "import seaborn as sns\n",
    "import numpy as np"
   ]
  },
  {
   "cell_type": "code",
   "execution_count": 3,
   "metadata": {},
   "outputs": [],
   "source": [
    "#!pip install pandas\n",
    "\n",
    "dis09 = pd.read_csv('../res/discentes-2009.csv', sep=';', encoding='utf8')\n",
    "dis10 = pd.read_csv('../res/discentes-2010.csv', sep=';', encoding='utf8')\n",
    "dis11 = pd.read_csv('../res/discentes-2011.csv', sep=';', encoding='utf8')\n",
    "dis12 = pd.read_csv('../res/discentes-2012.csv', sep=';', encoding='utf8')\n",
    "dis13 = pd.read_csv('../res/discentes-2013.csv', sep=';', encoding='utf8')\n",
    "dis14 = pd.read_csv('../res/discentes-2014.csv', sep=';', encoding='utf8')\n",
    "dis15 = pd.read_csv('../res/discentes-2015.csv', sep=';', encoding='utf8')\n",
    "dis16 = pd.read_csv('../res/discentes-2016.csv', sep=';', encoding='utf8')\n",
    "dis17 = pd.read_csv('../res/discentes-2017.csv', sep=';', encoding='utf8')\n",
    "dis18 = pd.read_csv('../res/discentes-2018.csv', sep=';', encoding='utf8')"
   ]
  },
  {
   "cell_type": "markdown",
   "metadata": {},
   "source": [
    "We only want to work with graduation students, so that's what this code is doing. Also, there are some columns that do not have much use for use, so we store their id's in a variable (`drop_cols`) and drop them from the DataFrame."
   ]
  },
  {
   "cell_type": "code",
   "execution_count": 4,
   "metadata": {
    "scrolled": true
   },
   "outputs": [],
   "source": [
    "drop_cols = ['sigla_nivel_ensino', 'id_unidade_gestora', 'nome_unidade_gestora']\n",
    "\n",
    "dis09 = dis09[dis09.nivel_ensino == 'GRADUAÇÃO'].drop(drop_cols, axis=1)\n",
    "dis10 = dis10[dis10.nivel_ensino == 'GRADUAÇÃO'].drop(drop_cols, axis=1)\n",
    "dis11 = dis11[dis11.nivel_ensino == 'GRADUAÇÃO'].drop(drop_cols, axis=1)\n",
    "dis12 = dis12[dis12.nivel_ensino == 'GRADUAÇÃO'].drop(drop_cols, axis=1)\n",
    "dis13 = dis13[dis13.nivel_ensino == 'GRADUAÇÃO'].drop(drop_cols, axis=1)\n",
    "dis14 = dis14[dis14.nivel_ensino == 'GRADUAÇÃO'].drop(drop_cols, axis=1)\n",
    "dis15 = dis15[dis15.nivel_ensino == 'GRADUAÇÃO'].drop(drop_cols, axis=1)\n",
    "dis16 = dis16[dis16.nivel_ensino == 'GRADUAÇÃO'].drop(drop_cols, axis=1)\n",
    "dis17 = dis17[dis17.nivel_ensino == 'GRADUAÇÃO'].drop(drop_cols, axis=1)\n",
    "dis18 = dis18[dis18.nivel_ensino == 'GRADUAÇÃO'].drop(drop_cols, axis=1)"
   ]
  },
  {
   "cell_type": "code",
   "execution_count": 68,
   "metadata": {},
   "outputs": [],
   "source": [
    "dis09.dropna(inplace=True)\n",
    "dis10.dropna(inplace=True)\n",
    "dis11.dropna(inplace=True)\n",
    "dis12.dropna(inplace=True)\n",
    "dis13.dropna(inplace=True)\n",
    "dis14.dropna(inplace=True)\n",
    "dis15.dropna(inplace=True)\n",
    "dis16.dropna(inplace=True)\n",
    "dis17.dropna(inplace=True)\n",
    "dis18.dropna(inplace=True)"
   ]
  },
  {
   "cell_type": "code",
   "execution_count": 10,
   "metadata": {},
   "outputs": [],
   "source": [
    "columns=[\"matricula\",\"status\",\"nome_curso\",\"ano_ingresso\"]"
   ]
  },
  {
   "cell_type": "code",
   "execution_count": 120,
   "metadata": {},
   "outputs": [],
   "source": [
    "#Para qualquer curso\n",
    "\n",
    "#2009\n",
    "Filtro = dis09\n",
    "Filtro = Filtro[~Filtro.nome_curso.isnull()]  \n",
    "Cancelado09 = Filtro[Filtro.status==\"CANCELADO\"]\n",
    "\n",
    "#2010\n",
    "Filtro = dis10\n",
    "Filtro = Filtro[~Filtro.nome_curso.isnull()]  \n",
    "Cancelado10 = Filtro[Filtro.status==\"CANCELADO\"]\n",
    "\n",
    "#2011\n",
    "Filtro = dis11\n",
    "Filtro = Filtro[~Filtro.nome_curso.isnull()]  \n",
    "Cancelado11 = Filtro[Filtro.status==\"CANCELADO\"]\n",
    "\n",
    "#2012\n",
    "Filtro = dis12\n",
    "Filtro = Filtro[~Filtro.nome_curso.isnull()]  \n",
    "Cancelado12 = Filtro[Filtro.status==\"CANCELADO\"]\n",
    "\n",
    "#2013\n",
    "Filtro = dis13\n",
    "Filtro = Filtro[~Filtro.nome_curso.isnull()]  \n",
    "Cancelado13 = Filtro[Filtro.status==\"CANCELADO\"]\n",
    "\n",
    "#2014\n",
    "Filtro = dis14\n",
    "Filtro = Filtro[~Filtro.nome_curso.isnull()]  \n",
    "Cancelado14 = Filtro[Filtro.status==\"CANCELADO\"]\n",
    "\n",
    "#2015\n",
    "Filtro = dis15\n",
    "Filtro = Filtro[~Filtro.nome_curso.isnull()]  \n",
    "Cancelado15 = Filtro[Filtro.status==\"CANCELADO\"]\n",
    "\n",
    "#2016\n",
    "Filtro = dis16\n",
    "Filtro = Filtro[~Filtro.nome_curso.isnull()]  \n",
    "Cancelado16 = Filtro[Filtro.status==\"CANCELADO\"]\n",
    "\n",
    "#2017\n",
    "Filtro = dis17\n",
    "Filtro = Filtro[~Filtro.nome_curso.isnull()]  \n",
    "Cancelado17= Filtro[Filtro.status==\"CANCELADO\"]\n",
    "\n",
    "#2018\n",
    "Filtro = dis18\n",
    "Filtro = Filtro[~Filtro.nome_curso.isnull()]  \n",
    "Cancelado18= Filtro[Filtro.status==\"CANCELADO\"]\n"
   ]
  },
  {
   "cell_type": "code",
   "execution_count": 121,
   "metadata": {},
   "outputs": [],
   "source": [
    "CanceladoTotal = pd.concat([Cancelado09, Cancelado10,Cancelado11,Cancelado12,\n",
    "                   Cancelado13,Cancelado14,Cancelado15,Cancelado16,Cancelado17,Cancelado18], ignore_index=True)"
   ]
  },
  {
   "cell_type": "code",
   "execution_count": 122,
   "metadata": {},
   "outputs": [],
   "source": [
    "CanceladoTotal = CanceladoTotal[~CanceladoTotal.matricula.duplicated()]"
   ]
  },
  {
   "cell_type": "code",
   "execution_count": 137,
   "metadata": {},
   "outputs": [],
   "source": [
    "nome_curso = CanceladoTotal.nome_curso.unique() #Lista dos Cursos\n",
    "ano_ingresso = [2009,2010,2011,2012,2013,2014,2015,2016,2017,2018]"
   ]
  },
  {
   "cell_type": "code",
   "execution_count": 138,
   "metadata": {},
   "outputs": [],
   "source": [
    "#columnsDataFrame = ['ano']\n",
    "#columnsDataFrame.append([nome_curso])\n",
    "\n",
    "def storeCounting(nome,ano,Cancel):\n",
    "    c = CanceladoTotal[CanceladoTotal.nome_curso == nome]\n",
    "    d = c[c.ano_ingresso == ano]\n",
    "    return Cancel.append({'curso': nome,'ano': ano, 'total_cancelados': d.ano_ingresso.count()},ignore_index=True)\n",
    " \n",
    "Cancel = pd.DataFrame(columns=[\"curso\",\"ano\",\"total_cancelados\"])    \n",
    "for i in nome_curso:\n",
    "    for j in ano_ingresso:\n",
    "        Cancel = storeCounting(i,j,Cancel)    "
   ]
  },
  {
   "cell_type": "code",
   "execution_count": 146,
   "metadata": {
    "scrolled": true
   },
   "outputs": [],
   "source": [
    "k = Cancel[Cancel.curso==\"MATEMÁTICA\"]"
   ]
  },
  {
   "cell_type": "code",
   "execution_count": 147,
   "metadata": {},
   "outputs": [
    {
     "data": {
      "image/png": "[encoded data removed]",
      "text/plain": [
       "<matplotlib.figure.Figure at 0x2367e4bc400>"
      ]
     },
     "metadata": {},
     "output_type": "display_data"
    }
   ],
   "source": [
    "%matplotlib inline\n",
    "k.plot(kind='line',x='ano', y='total_cancelados')\n",
    "plt.show()"
   ]
  }
 ],
 "metadata": {
  "kernelspec": {
   "display_name": "Python 3",
   "language": "python",
   "name": "python3"
  },
  "language_info": {
   "codemirror_mode": {
    "name": "ipython",
    "version": 3
   },
   "file_extension": ".py",
   "mimetype": "text/x-python",
   "name": "python",
   "nbconvert_exporter": "python",
   "pygments_lexer": "ipython3",
   "version": "3.6.4"
  }
 },
 "nbformat": 4,
 "nbformat_minor": 2
}
