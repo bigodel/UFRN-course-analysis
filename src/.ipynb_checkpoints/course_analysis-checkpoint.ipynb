{
 "cells": [
  {
   "cell_type": "markdown",
   "metadata": {},
   "source": [
    "### Starting out with pandas ###\n",
    "\n",
    "In this code snippet we read the csv's to store each year's information in a `pandas` DataFrame in order to extract what we want. The name of the variable comes from the student, which in portuguese is written as *\"aluno\"* or *\"discente\"*."
   ]
  },
  {
   "cell_type": "code",
   "execution_count": 4,
   "metadata": {},
   "outputs": [],
   "source": [
    "import pandas as pd\n",
    "import matplotlib.pyplot as plt\n",
    "import seaborn as sns\n",
    "import numpy as np"
   ]
  },
  {
   "cell_type": "code",
   "execution_count": 5,
   "metadata": {},
   "outputs": [],
   "source": [
    "#!pip install pandas\n",
    "\n",
    "dis09 = pd.read_csv('../res/discentes-2009.csv', sep=';', encoding='utf8')\n",
    "dis10 = pd.read_csv('../res/discentes-2010.csv', sep=';', encoding='utf8')\n",
    "dis11 = pd.read_csv('../res/discentes-2011.csv', sep=';', encoding='utf8')\n",
    "dis12 = pd.read_csv('../res/discentes-2012.csv', sep=';', encoding='utf8')\n",
    "dis13 = pd.read_csv('../res/discentes-2013.csv', sep=';', encoding='utf8')\n",
    "dis14 = pd.read_csv('../res/discentes-2014.csv', sep=';', encoding='utf8')\n",
    "dis15 = pd.read_csv('../res/discentes-2015.csv', sep=';', encoding='utf8')\n",
    "dis16 = pd.read_csv('../res/discentes-2016.csv', sep=';', encoding='utf8')\n",
    "dis17 = pd.read_csv('../res/discentes-2017.csv', sep=';', encoding='utf8')\n",
    "dis18 = pd.read_csv('../res/discentes-2018.csv', sep=';', encoding='utf8')"
   ]
  },
  {
   "cell_type": "markdown",
   "metadata": {},
   "source": [
    "We only want to work with graduation students, so that's what this code is doing. Also, there are some columns that do not have much use for use, so we store their id's in a variable (`drop_cols`) and drop them from the DataFrame."
   ]
  },
  {
   "cell_type": "code",
   "execution_count": 6,
   "metadata": {
    "scrolled": true
   },
   "outputs": [],
   "source": [
    "drop_cols = ['sigla_nivel_ensino', 'id_unidade_gestora', 'nome_unidade_gestora']\n",
    "\n",
    "dis09 = dis09[dis09.nivel_ensino == 'GRADUAÇÃO'].drop(drop_cols, axis=1)\n",
    "dis10 = dis10[dis10.nivel_ensino == 'GRADUAÇÃO'].drop(drop_cols, axis=1)\n",
    "dis11 = dis11[dis11.nivel_ensino == 'GRADUAÇÃO'].drop(drop_cols, axis=1)\n",
    "dis12 = dis12[dis12.nivel_ensino == 'GRADUAÇÃO'].drop(drop_cols, axis=1)\n",
    "dis13 = dis13[dis13.nivel_ensino == 'GRADUAÇÃO'].drop(drop_cols, axis=1)\n",
    "dis14 = dis14[dis14.nivel_ensino == 'GRADUAÇÃO'].drop(drop_cols, axis=1)\n",
    "dis15 = dis15[dis15.nivel_ensino == 'GRADUAÇÃO'].drop(drop_cols, axis=1)\n",
    "dis16 = dis16[dis16.nivel_ensino == 'GRADUAÇÃO'].drop(drop_cols, axis=1)\n",
    "dis17 = dis17[dis17.nivel_ensino == 'GRADUAÇÃO'].drop(drop_cols, axis=1)\n",
    "dis18 = dis18[dis18.nivel_ensino == 'GRADUAÇÃO'].drop(drop_cols, axis=1)"
   ]
  },
  {
   "cell_type": "code",
   "execution_count": 7,
   "metadata": {},
   "outputs": [],
   "source": [
    "dis09.dropna(inplace=True)\n",
    "dis10.dropna(inplace=True)\n",
    "dis11.dropna(inplace=True)\n",
    "dis12.dropna(inplace=True)\n",
    "dis13.dropna(inplace=True)\n",
    "dis14.dropna(inplace=True)\n",
    "dis15.dropna(inplace=True)\n",
    "dis16.dropna(inplace=True)\n",
    "dis17.dropna(inplace=True)\n",
    "dis18.dropna(inplace=True)"
   ]
  },
  {
   "cell_type": "code",
   "execution_count": 8,
   "metadata": {},
   "outputs": [],
   "source": [
    "columns=[\"matricula\",\"status\",\"nome_curso\",\"ano_ingresso\"]"
   ]
  },
  {
   "cell_type": "code",
   "execution_count": 9,
   "metadata": {},
   "outputs": [],
   "source": [
    "#Para qualquer curso\n",
    "\n",
    "#2009\n",
    "Filtro = dis09\n",
    "Filtro = Filtro[~Filtro.nome_curso.isnull()]  \n",
    "Cancelado09 = Filtro[Filtro.status==\"CANCELADO\"]\n",
    "\n",
    "#2010\n",
    "Filtro = dis10\n",
    "Filtro = Filtro[~Filtro.nome_curso.isnull()]  \n",
    "Cancelado10 = Filtro[Filtro.status==\"CANCELADO\"]\n",
    "\n",
    "#2011\n",
    "Filtro = dis11\n",
    "Filtro = Filtro[~Filtro.nome_curso.isnull()]  \n",
    "Cancelado11 = Filtro[Filtro.status==\"CANCELADO\"]\n",
    "\n",
    "#2012\n",
    "Filtro = dis12\n",
    "Filtro = Filtro[~Filtro.nome_curso.isnull()]  \n",
    "Cancelado12 = Filtro[Filtro.status==\"CANCELADO\"]\n",
    "\n",
    "#2013\n",
    "Filtro = dis13\n",
    "Filtro = Filtro[~Filtro.nome_curso.isnull()]  \n",
    "Cancelado13 = Filtro[Filtro.status==\"CANCELADO\"]\n",
    "\n",
    "#2014\n",
    "Filtro = dis14\n",
    "Filtro = Filtro[~Filtro.nome_curso.isnull()]  \n",
    "Cancelado14 = Filtro[Filtro.status==\"CANCELADO\"]\n",
    "\n",
    "#2015\n",
    "Filtro = dis15\n",
    "Filtro = Filtro[~Filtro.nome_curso.isnull()]  \n",
    "Cancelado15 = Filtro[Filtro.status==\"CANCELADO\"]\n",
    "\n",
    "#2016\n",
    "Filtro = dis16\n",
    "Filtro = Filtro[~Filtro.nome_curso.isnull()]  \n",
    "Cancelado16 = Filtro[Filtro.status==\"CANCELADO\"]\n",
    "\n",
    "#2017\n",
    "Filtro = dis17\n",
    "Filtro = Filtro[~Filtro.nome_curso.isnull()]  \n",
    "Cancelado17= Filtro[Filtro.status==\"CANCELADO\"]\n",
    "\n",
    "#2018\n",
    "Filtro = dis18\n",
    "Filtro = Filtro[~Filtro.nome_curso.isnull()]  \n",
    "Cancelado18= Filtro[Filtro.status==\"CANCELADO\"]\n"
   ]
  },
  {
   "cell_type": "code",
   "execution_count": 10,
   "metadata": {},
   "outputs": [],
   "source": [
    "CanceladoTotal = pd.concat([Cancelado09, Cancelado10,Cancelado11,Cancelado12,\n",
    "                   Cancelado13,Cancelado14,Cancelado15,Cancelado16,Cancelado17,Cancelado18], ignore_index=True)"
   ]
  },
  {
   "cell_type": "code",
   "execution_count": 11,
   "metadata": {},
   "outputs": [],
   "source": [
    "CanceladoTotal = CanceladoTotal[~CanceladoTotal.matricula.duplicated()]"
   ]
  },
  {
   "cell_type": "code",
   "execution_count": 12,
   "metadata": {},
   "outputs": [],
   "source": [
    "nome_curso = CanceladoTotal.nome_curso.unique() #Lista dos Cursos\n",
    "ano_ingresso = [2009,2010,2011,2012,2013,2014,2015,2016,2017,2018]"
   ]
  },
  {
   "cell_type": "code",
   "execution_count": 13,
   "metadata": {},
   "outputs": [],
   "source": [
    "#columnsDataFrame = ['ano']\n",
    "#columnsDataFrame.append([nome_curso])\n",
    "\n",
    "def storeCounting(nome,ano,Cancel):\n",
    "    c = CanceladoTotal[CanceladoTotal.nome_curso == nome]\n",
    "    d = c[c.ano_ingresso == ano]\n",
    "    return Cancel.append({'curso': nome,'ano': ano, 'total_cancelados': d.ano_ingresso.count()},ignore_index=True)\n",
    " \n",
    "Cancel = pd.DataFrame(columns=[\"curso\",\"ano\",\"total_cancelados\"])    \n",
    "for i in nome_curso:\n",
    "    for j in ano_ingresso:\n",
    "        Cancel = storeCounting(i,j,Cancel)    "
   ]
  },
  {
   "cell_type": "code",
   "execution_count": 14,
   "metadata": {
    "scrolled": true
   },
   "outputs": [],
   "source": [
    "k = Cancel[Cancel.curso==\"MATEMÁTICA\"]"
   ]
  },
  {
   "cell_type": "code",
   "execution_count": 17,
   "metadata": {},
   "outputs": [
    {
     "data": {
      "text/html": [
       "<div>\n",
       "<style scoped>\n",
       "    .dataframe tbody tr th:only-of-type {\n",
       "        vertical-align: middle;\n",
       "    }\n",
       "\n",
       "    .dataframe tbody tr th {\n",
       "        vertical-align: top;\n",
       "    }\n",
       "\n",
       "    .dataframe thead th {\n",
       "        text-align: right;\n",
       "    }\n",
       "</style>\n",
       "<table border=\"1\" class=\"dataframe\">\n",
       "  <thead>\n",
       "    <tr style=\"text-align: right;\">\n",
       "      <th></th>\n",
       "      <th>curso</th>\n",
       "      <th>ano</th>\n",
       "      <th>total_cancelados</th>\n",
       "    </tr>\n",
       "  </thead>\n",
       "  <tbody>\n",
       "    <tr>\n",
       "      <th>30</th>\n",
       "      <td>MATEMÁTICA</td>\n",
       "      <td>2009</td>\n",
       "      <td>199</td>\n",
       "    </tr>\n",
       "    <tr>\n",
       "      <th>31</th>\n",
       "      <td>MATEMÁTICA</td>\n",
       "      <td>2010</td>\n",
       "      <td>324</td>\n",
       "    </tr>\n",
       "    <tr>\n",
       "      <th>32</th>\n",
       "      <td>MATEMÁTICA</td>\n",
       "      <td>2011</td>\n",
       "      <td>127</td>\n",
       "    </tr>\n",
       "    <tr>\n",
       "      <th>33</th>\n",
       "      <td>MATEMÁTICA</td>\n",
       "      <td>2012</td>\n",
       "      <td>248</td>\n",
       "    </tr>\n",
       "    <tr>\n",
       "      <th>34</th>\n",
       "      <td>MATEMÁTICA</td>\n",
       "      <td>2013</td>\n",
       "      <td>134</td>\n",
       "    </tr>\n",
       "    <tr>\n",
       "      <th>35</th>\n",
       "      <td>MATEMÁTICA</td>\n",
       "      <td>2014</td>\n",
       "      <td>213</td>\n",
       "    </tr>\n",
       "    <tr>\n",
       "      <th>36</th>\n",
       "      <td>MATEMÁTICA</td>\n",
       "      <td>2015</td>\n",
       "      <td>71</td>\n",
       "    </tr>\n",
       "    <tr>\n",
       "      <th>37</th>\n",
       "      <td>MATEMÁTICA</td>\n",
       "      <td>2016</td>\n",
       "      <td>71</td>\n",
       "    </tr>\n",
       "    <tr>\n",
       "      <th>38</th>\n",
       "      <td>MATEMÁTICA</td>\n",
       "      <td>2017</td>\n",
       "      <td>0</td>\n",
       "    </tr>\n",
       "    <tr>\n",
       "      <th>39</th>\n",
       "      <td>MATEMÁTICA</td>\n",
       "      <td>2018</td>\n",
       "      <td>4</td>\n",
       "    </tr>\n",
       "  </tbody>\n",
       "</table>\n",
       "</div>"
      ],
      "text/plain": [
       "         curso   ano total_cancelados\n",
       "30  MATEMÁTICA  2009              199\n",
       "31  MATEMÁTICA  2010              324\n",
       "32  MATEMÁTICA  2011              127\n",
       "33  MATEMÁTICA  2012              248\n",
       "34  MATEMÁTICA  2013              134\n",
       "35  MATEMÁTICA  2014              213\n",
       "36  MATEMÁTICA  2015               71\n",
       "37  MATEMÁTICA  2016               71\n",
       "38  MATEMÁTICA  2017                0\n",
       "39  MATEMÁTICA  2018                4"
      ]
     },
     "execution_count": 17,
     "metadata": {},
     "output_type": "execute_result"
    }
   ],
   "source": [
    "k"
   ]
  },
  {
   "cell_type": "code",
   "execution_count": 15,
   "metadata": {},
   "outputs": [
    {
     "data": {
      "image/png": "[encoded data removed]",
      "text/plain": [
       "<matplotlib.figure.Figure at 0x1c24c55c978>"
      ]
     },
     "metadata": {},
     "output_type": "display_data"
    }
   ],
   "source": [
    "%matplotlib inline\n",
    "k.plot(kind='line',x='ano', y='total_cancelados')\n",
    "plt.show()"
   ]
  },
  {
   "cell_type": "code",
   "execution_count": 20,
   "metadata": {},
   "outputs": [
    {
     "data": {
      "image/png": "[encoded data removed]",
      "text/plain": [
       "<matplotlib.figure.Figure at 0x1c24cc0e978>"
      ]
     },
     "metadata": {},
     "output_type": "display_data"
    }
   ],
   "source": [
    "#Kernel density plot\n",
    "sns.set_style(\"white\")\n",
    "sns.kdeplot(CanceladoTotal[\"ano_ingresso\"], shade = True)\n",
    "plt.xlabel(\"Ano\")\n",
    "sns.despine()\n",
    "plt.show()"
   ]
  }
 ],
 "metadata": {
  "kernelspec": {
   "display_name": "Python 3",
   "language": "python",
   "name": "python3"
  },
  "language_info": {
   "codemirror_mode": {
    "name": "ipython",
    "version": 3
   },
   "file_extension": ".py",
   "mimetype": "text/x-python",
   "name": "python",
   "nbconvert_exporter": "python",
   "pygments_lexer": "ipython3",
   "version": "3.6.4"
  }
 },
 "nbformat": 4,
 "nbformat_minor": 2
}
